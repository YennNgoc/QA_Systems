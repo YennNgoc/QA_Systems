{
  "nbformat": 4,
  "nbformat_minor": 0,
  "metadata": {
    "colab": {
      "name": "Evaluation Reader",
      "provenance": [],
      "collapsed_sections": []
    },
    "kernelspec": {
      "display_name": "Python 3",
      "name": "python3"
    },
    "language_info": {
      "name": "python"
    },
    "accelerator": "GPU"
  },
  "cells": [
    {
      "cell_type": "markdown",
      "metadata": {
        "id": "rOGKzCWJuBxc"
      },
      "source": [
        "https://haystack.deepset.ai/tutorials/train-dpr"
      ]
    },
    {
      "cell_type": "code",
      "metadata": {
        "colab": {
          "base_uri": "https://localhost:8080/"
        },
        "id": "5GsarrifGTHT",
        "outputId": "d108af4d-55f4-4ca7-fc90-0e1a25a0de65"
      },
      "source": [
        "from google.colab import drive\n",
        "drive.mount('/content/drive')"
      ],
      "execution_count": null,
      "outputs": [
        {
          "output_type": "stream",
          "name": "stdout",
          "text": [
            "Mounted at /content/drive\n"
          ]
        }
      ]
    },
    {
      "cell_type": "markdown",
      "metadata": {
        "id": "qIodCGuQ3hCT"
      },
      "source": [
        "## Install library"
      ]
    },
    {
      "cell_type": "code",
      "metadata": {
        "colab": {
          "base_uri": "https://localhost:8080/"
        },
        "id": "oKuh5VFl3jX8",
        "outputId": "e4da4f47-45b6-49c4-b485-8b563e3f733c"
      },
      "source": [
        "!pip install farm-haystack --find-links=https://download.pytorch.org/whl/torch_stable.html\n",
        "!pip install grpcio-tools==1.34.1\n",
        "!pip install git+https://github.com/deepset-ai/haystack.git\n",
        "!pip install torch==1.8.0+cu111 torchvision==0.9.0+cu111 torchaudio==0.8.0 -f https://download.pytorch.org/whl/torch_stable.html"
      ],
      "execution_count": null,
      "outputs": [
        {
          "output_type": "stream",
          "name": "stdout",
          "text": [
            "Looking in links: https://download.pytorch.org/whl/torch_stable.html\n",
            "Requirement already satisfied: farm-haystack in /usr/local/lib/python3.7/dist-packages (1.0.0)\n",
            "Requirement already satisfied: seqeval in /usr/local/lib/python3.7/dist-packages (from farm-haystack) (1.2.2)\n",
            "Requirement already satisfied: pillow==8.3.2 in /usr/local/lib/python3.7/dist-packages (from farm-haystack) (8.3.2)\n",
            "Requirement already satisfied: psycopg2-binary in /usr/local/lib/python3.7/dist-packages (from farm-haystack) (2.9.2)\n",
            "Requirement already satisfied: pdf2image==1.14.0 in /usr/local/lib/python3.7/dist-packages (from farm-haystack) (1.14.0)\n",
            "Requirement already satisfied: weaviate-client==2.5.0 in /usr/local/lib/python3.7/dist-packages (from farm-haystack) (2.5.0)\n",
            "Requirement already satisfied: networkx in /usr/local/lib/python3.7/dist-packages (from farm-haystack) (2.6.3)\n",
            "Requirement already satisfied: more-itertools in /usr/local/lib/python3.7/dist-packages (from farm-haystack) (8.12.0)\n",
            "Requirement already satisfied: quantulum3 in /usr/local/lib/python3.7/dist-packages (from farm-haystack) (0.7.9)\n",
            "Requirement already satisfied: azure-ai-formrecognizer==3.2.0b2 in /usr/local/lib/python3.7/dist-packages (from farm-haystack) (3.2.0b2)\n",
            "Requirement already satisfied: dill in /usr/local/lib/python3.7/dist-packages (from farm-haystack) (0.3.4)\n",
            "Requirement already satisfied: coverage in /usr/local/lib/python3.7/dist-packages (from farm-haystack) (3.7.1)\n",
            "Requirement already satisfied: langdetect in /usr/local/lib/python3.7/dist-packages (from farm-haystack) (1.0.9)\n",
            "Requirement already satisfied: setuptools in /usr/local/lib/python3.7/dist-packages (from farm-haystack) (57.4.0)\n",
            "Requirement already satisfied: requests in /usr/local/lib/python3.7/dist-packages (from farm-haystack) (2.23.0)\n",
            "Requirement already satisfied: mmh3 in /usr/local/lib/python3.7/dist-packages (from farm-haystack) (3.0.0)\n",
            "Requirement already satisfied: pytesseract==0.3.7 in /usr/local/lib/python3.7/dist-packages (from farm-haystack) (0.3.7)\n",
            "Requirement already satisfied: tqdm in /usr/local/lib/python3.7/dist-packages (from farm-haystack) (4.62.3)\n",
            "Requirement already satisfied: mlflow<=1.13.1 in /usr/local/lib/python3.7/dist-packages (from farm-haystack) (1.13.1)\n",
            "Requirement already satisfied: sqlalchemy-utils in /usr/local/lib/python3.7/dist-packages (from farm-haystack) (0.38.1)\n",
            "Requirement already satisfied: wheel in /usr/local/lib/python3.7/dist-packages (from farm-haystack) (0.37.0)\n",
            "Requirement already satisfied: fastapi in /usr/local/lib/python3.7/dist-packages (from farm-haystack) (0.70.1)\n",
            "Requirement already satisfied: psutil in /usr/local/lib/python3.7/dist-packages (from farm-haystack) (5.4.8)\n",
            "Requirement already satisfied: python-docx in /usr/local/lib/python3.7/dist-packages (from farm-haystack) (0.8.11)\n",
            "Requirement already satisfied: elastic-apm in /usr/local/lib/python3.7/dist-packages (from farm-haystack) (6.7.2)\n",
            "Requirement already satisfied: dataclasses-json in /usr/local/lib/python3.7/dist-packages (from farm-haystack) (0.5.6)\n",
            "Requirement already satisfied: sqlalchemy>=1.4.2 in /usr/local/lib/python3.7/dist-packages (from farm-haystack) (1.4.27)\n",
            "Requirement already satisfied: scipy>=1.3.2 in /usr/local/lib/python3.7/dist-packages (from farm-haystack) (1.4.1)\n",
            "Requirement already satisfied: elasticsearch<=7.10,>=7.7 in /usr/local/lib/python3.7/dist-packages (from farm-haystack) (7.10.0)\n",
            "Requirement already satisfied: torch<1.11,>1.5 in /usr/local/lib/python3.7/dist-packages (from farm-haystack) (1.8.0+cu111)\n",
            "Requirement already satisfied: SPARQLWrapper in /usr/local/lib/python3.7/dist-packages (from farm-haystack) (1.8.5)\n",
            "Requirement already satisfied: python-multipart in /usr/local/lib/python3.7/dist-packages (from farm-haystack) (0.0.5)\n",
            "Requirement already satisfied: faiss-cpu>=1.6.3 in /usr/local/lib/python3.7/dist-packages (from farm-haystack) (1.7.1.post3)\n",
            "Requirement already satisfied: uvicorn in /usr/local/lib/python3.7/dist-packages (from farm-haystack) (0.16.0)\n",
            "Requirement already satisfied: uvloop==0.14 in /usr/local/lib/python3.7/dist-packages (from farm-haystack) (0.14.0)\n",
            "Requirement already satisfied: tox in /usr/local/lib/python3.7/dist-packages (from farm-haystack) (3.24.4)\n",
            "Requirement already satisfied: ray==1.5.0 in /usr/local/lib/python3.7/dist-packages (from farm-haystack) (1.5.0)\n",
            "Requirement already satisfied: sklearn in /usr/local/lib/python3.7/dist-packages (from farm-haystack) (0.0)\n",
            "Requirement already satisfied: gunicorn in /usr/local/lib/python3.7/dist-packages (from farm-haystack) (20.1.0)\n",
            "Requirement already satisfied: pymilvus in /usr/local/lib/python3.7/dist-packages (from farm-haystack) (1.1.2)\n",
            "Requirement already satisfied: sentence-transformers>=0.4.0 in /usr/local/lib/python3.7/dist-packages (from farm-haystack) (2.1.0)\n",
            "Collecting transformers==4.7.0\n",
            "  Using cached transformers-4.7.0-py3-none-any.whl (2.5 MB)\n",
            "Requirement already satisfied: pandas in /usr/local/lib/python3.7/dist-packages (from farm-haystack) (1.1.5)\n",
            "Requirement already satisfied: httptools in /usr/local/lib/python3.7/dist-packages (from farm-haystack) (0.3.0)\n",
            "Requirement already satisfied: tika in /usr/local/lib/python3.7/dist-packages (from farm-haystack) (1.24)\n",
            "Requirement already satisfied: nltk in /usr/local/lib/python3.7/dist-packages (from farm-haystack) (3.2.5)\n",
            "Requirement already satisfied: msrest>=0.6.21 in /usr/local/lib/python3.7/dist-packages (from azure-ai-formrecognizer==3.2.0b2->farm-haystack) (0.6.21)\n",
            "Requirement already satisfied: azure-core<2.0.0,>=1.13.0 in /usr/local/lib/python3.7/dist-packages (from azure-ai-formrecognizer==3.2.0b2->farm-haystack) (1.21.1)\n",
            "Requirement already satisfied: azure-common~=1.1 in /usr/local/lib/python3.7/dist-packages (from azure-ai-formrecognizer==3.2.0b2->farm-haystack) (1.1.27)\n",
            "Requirement already satisfied: six>=1.11.0 in /usr/local/lib/python3.7/dist-packages (from azure-ai-formrecognizer==3.2.0b2->farm-haystack) (1.15.0)\n",
            "Requirement already satisfied: click>=7.0 in /usr/local/lib/python3.7/dist-packages (from ray==1.5.0->farm-haystack) (7.1.2)\n",
            "Requirement already satisfied: filelock in /usr/local/lib/python3.7/dist-packages (from ray==1.5.0->farm-haystack) (3.4.0)\n",
            "Requirement already satisfied: prometheus-client>=0.7.1 in /usr/local/lib/python3.7/dist-packages (from ray==1.5.0->farm-haystack) (0.12.0)\n",
            "Requirement already satisfied: py-spy>=0.2.0 in /usr/local/lib/python3.7/dist-packages (from ray==1.5.0->farm-haystack) (0.3.11)\n",
            "Requirement already satisfied: pydantic>=1.8 in /usr/local/lib/python3.7/dist-packages (from ray==1.5.0->farm-haystack) (1.8.2)\n",
            "Requirement already satisfied: aioredis in /usr/local/lib/python3.7/dist-packages (from ray==1.5.0->farm-haystack) (2.0.0)\n",
            "Requirement already satisfied: grpcio>=1.28.1 in /usr/local/lib/python3.7/dist-packages (from ray==1.5.0->farm-haystack) (1.37.1)\n",
            "Requirement already satisfied: numpy>=1.16 in /usr/local/lib/python3.7/dist-packages (from ray==1.5.0->farm-haystack) (1.19.5)\n",
            "Requirement already satisfied: colorama in /usr/local/lib/python3.7/dist-packages (from ray==1.5.0->farm-haystack) (0.4.4)\n",
            "Requirement already satisfied: jsonschema in /usr/local/lib/python3.7/dist-packages (from ray==1.5.0->farm-haystack) (2.6.0)\n",
            "Requirement already satisfied: aiohttp-cors in /usr/local/lib/python3.7/dist-packages (from ray==1.5.0->farm-haystack) (0.7.0)\n",
            "Requirement already satisfied: gpustat in /usr/local/lib/python3.7/dist-packages (from ray==1.5.0->farm-haystack) (0.6.0)\n",
            "Requirement already satisfied: aiohttp in /usr/local/lib/python3.7/dist-packages (from ray==1.5.0->farm-haystack) (3.8.1)\n",
            "Requirement already satisfied: msgpack<2.0.0,>=1.0.0 in /usr/local/lib/python3.7/dist-packages (from ray==1.5.0->farm-haystack) (1.0.3)\n",
            "Requirement already satisfied: redis>=3.5.0 in /usr/local/lib/python3.7/dist-packages (from ray==1.5.0->farm-haystack) (4.0.2)\n",
            "Requirement already satisfied: opencensus in /usr/local/lib/python3.7/dist-packages (from ray==1.5.0->farm-haystack) (0.8.0)\n",
            "Requirement already satisfied: protobuf>=3.15.3 in /usr/local/lib/python3.7/dist-packages (from ray==1.5.0->farm-haystack) (3.17.3)\n",
            "Requirement already satisfied: pyyaml in /usr/local/lib/python3.7/dist-packages (from ray==1.5.0->farm-haystack) (6.0)\n",
            "Requirement already satisfied: sacremoses in /usr/local/lib/python3.7/dist-packages (from transformers==4.7.0->farm-haystack) (0.0.46)\n",
            "Requirement already satisfied: importlib-metadata in /usr/local/lib/python3.7/dist-packages (from transformers==4.7.0->farm-haystack) (4.8.2)\n",
            "Collecting huggingface-hub==0.0.8\n",
            "  Using cached huggingface_hub-0.0.8-py3-none-any.whl (34 kB)\n",
            "Requirement already satisfied: tokenizers<0.11,>=0.10.1 in /usr/local/lib/python3.7/dist-packages (from transformers==4.7.0->farm-haystack) (0.10.3)\n",
            "Requirement already satisfied: packaging in /usr/local/lib/python3.7/dist-packages (from transformers==4.7.0->farm-haystack) (21.3)\n",
            "Requirement already satisfied: regex!=2019.12.17 in /usr/local/lib/python3.7/dist-packages (from transformers==4.7.0->farm-haystack) (2019.12.20)\n",
            "Requirement already satisfied: validators>=0.18.2 in /usr/local/lib/python3.7/dist-packages (from weaviate-client==2.5.0->farm-haystack) (0.18.2)\n",
            "Requirement already satisfied: certifi in /usr/local/lib/python3.7/dist-packages (from elasticsearch<=7.10,>=7.7->farm-haystack) (2021.10.8)\n",
            "Requirement already satisfied: urllib3<2,>=1.21.1 in /usr/local/lib/python3.7/dist-packages (from elasticsearch<=7.10,>=7.7->farm-haystack) (1.24.3)\n",
            "Requirement already satisfied: entrypoints in /usr/local/lib/python3.7/dist-packages (from mlflow<=1.13.1->farm-haystack) (0.3)\n",
            "Requirement already satisfied: querystring-parser in /usr/local/lib/python3.7/dist-packages (from mlflow<=1.13.1->farm-haystack) (1.2.4)\n",
            "Requirement already satisfied: alembic<=1.4.1 in /usr/local/lib/python3.7/dist-packages (from mlflow<=1.13.1->farm-haystack) (1.4.1)\n",
            "Requirement already satisfied: sqlparse>=0.3.1 in /usr/local/lib/python3.7/dist-packages (from mlflow<=1.13.1->farm-haystack) (0.4.2)\n",
            "Requirement already satisfied: python-dateutil in /usr/local/lib/python3.7/dist-packages (from mlflow<=1.13.1->farm-haystack) (2.8.2)\n",
            "Requirement already satisfied: prometheus-flask-exporter in /usr/local/lib/python3.7/dist-packages (from mlflow<=1.13.1->farm-haystack) (0.18.6)\n",
            "Requirement already satisfied: cloudpickle in /usr/local/lib/python3.7/dist-packages (from mlflow<=1.13.1->farm-haystack) (1.3.0)\n",
            "Requirement already satisfied: Flask in /usr/local/lib/python3.7/dist-packages (from mlflow<=1.13.1->farm-haystack) (1.1.4)\n",
            "Requirement already satisfied: docker>=4.0.0 in /usr/local/lib/python3.7/dist-packages (from mlflow<=1.13.1->farm-haystack) (5.0.3)\n",
            "Requirement already satisfied: databricks-cli>=0.8.7 in /usr/local/lib/python3.7/dist-packages (from mlflow<=1.13.1->farm-haystack) (0.16.2)\n",
            "Requirement already satisfied: azure-storage-blob>=12.0.0 in /usr/local/lib/python3.7/dist-packages (from mlflow<=1.13.1->farm-haystack) (12.9.0)\n",
            "Requirement already satisfied: gitpython>=2.1.0 in /usr/local/lib/python3.7/dist-packages (from mlflow<=1.13.1->farm-haystack) (3.1.24)\n",
            "Requirement already satisfied: python-editor>=0.3 in /usr/local/lib/python3.7/dist-packages (from alembic<=1.4.1->mlflow<=1.13.1->farm-haystack) (1.0.4)\n",
            "Requirement already satisfied: Mako in /usr/local/lib/python3.7/dist-packages (from alembic<=1.4.1->mlflow<=1.13.1->farm-haystack) (1.1.6)\n",
            "Requirement already satisfied: cryptography>=2.1.4 in /usr/local/lib/python3.7/dist-packages (from azure-storage-blob>=12.0.0->mlflow<=1.13.1->farm-haystack) (36.0.1)\n",
            "Requirement already satisfied: cffi>=1.12 in /usr/local/lib/python3.7/dist-packages (from cryptography>=2.1.4->azure-storage-blob>=12.0.0->mlflow<=1.13.1->farm-haystack) (1.15.0)\n",
            "Requirement already satisfied: pycparser in /usr/local/lib/python3.7/dist-packages (from cffi>=1.12->cryptography>=2.1.4->azure-storage-blob>=12.0.0->mlflow<=1.13.1->farm-haystack) (2.21)\n",
            "Requirement already satisfied: tabulate>=0.7.7 in /usr/local/lib/python3.7/dist-packages (from databricks-cli>=0.8.7->mlflow<=1.13.1->farm-haystack) (0.8.9)\n",
            "Requirement already satisfied: websocket-client>=0.32.0 in /usr/local/lib/python3.7/dist-packages (from docker>=4.0.0->mlflow<=1.13.1->farm-haystack) (1.2.3)\n",
            "Requirement already satisfied: gitdb<5,>=4.0.1 in /usr/local/lib/python3.7/dist-packages (from gitpython>=2.1.0->mlflow<=1.13.1->farm-haystack) (4.0.9)\n",
            "Requirement already satisfied: typing-extensions>=3.7.4.3 in /usr/local/lib/python3.7/dist-packages (from gitpython>=2.1.0->mlflow<=1.13.1->farm-haystack) (3.10.0.2)\n",
            "Requirement already satisfied: smmap<6,>=3.0.1 in /usr/local/lib/python3.7/dist-packages (from gitdb<5,>=4.0.1->gitpython>=2.1.0->mlflow<=1.13.1->farm-haystack) (5.0.0)\n",
            "Requirement already satisfied: isodate>=0.6.0 in /usr/local/lib/python3.7/dist-packages (from msrest>=0.6.21->azure-ai-formrecognizer==3.2.0b2->farm-haystack) (0.6.1)\n",
            "Requirement already satisfied: requests-oauthlib>=0.5.0 in /usr/local/lib/python3.7/dist-packages (from msrest>=0.6.21->azure-ai-formrecognizer==3.2.0b2->farm-haystack) (1.3.0)\n",
            "Requirement already satisfied: deprecated in /usr/local/lib/python3.7/dist-packages (from redis>=3.5.0->ray==1.5.0->farm-haystack) (1.2.13)\n",
            "Requirement already satisfied: chardet<4,>=3.0.2 in /usr/local/lib/python3.7/dist-packages (from requests->farm-haystack) (3.0.4)\n",
            "Requirement already satisfied: idna<3,>=2.5 in /usr/local/lib/python3.7/dist-packages (from requests->farm-haystack) (2.10)\n",
            "Requirement already satisfied: oauthlib>=3.0.0 in /usr/local/lib/python3.7/dist-packages (from requests-oauthlib>=0.5.0->msrest>=0.6.21->azure-ai-formrecognizer==3.2.0b2->farm-haystack) (3.1.1)\n",
            "Requirement already satisfied: torchvision in /usr/local/lib/python3.7/dist-packages (from sentence-transformers>=0.4.0->farm-haystack) (0.9.0+cu111)\n",
            "Requirement already satisfied: sentencepiece in /usr/local/lib/python3.7/dist-packages (from sentence-transformers>=0.4.0->farm-haystack) (0.1.96)\n",
            "Requirement already satisfied: scikit-learn in /usr/local/lib/python3.7/dist-packages (from sentence-transformers>=0.4.0->farm-haystack) (1.0.1)\n",
            "Requirement already satisfied: greenlet!=0.4.17 in /usr/local/lib/python3.7/dist-packages (from sqlalchemy>=1.4.2->farm-haystack) (1.1.2)\n",
            "Requirement already satisfied: decorator>=3.4.0 in /usr/local/lib/python3.7/dist-packages (from validators>=0.18.2->weaviate-client==2.5.0->farm-haystack) (4.4.2)\n",
            "Requirement already satisfied: charset-normalizer<3.0,>=2.0 in /usr/local/lib/python3.7/dist-packages (from aiohttp->ray==1.5.0->farm-haystack) (2.0.8)\n",
            "Requirement already satisfied: async-timeout<5.0,>=4.0.0a3 in /usr/local/lib/python3.7/dist-packages (from aiohttp->ray==1.5.0->farm-haystack) (4.0.2)\n",
            "Requirement already satisfied: frozenlist>=1.1.1 in /usr/local/lib/python3.7/dist-packages (from aiohttp->ray==1.5.0->farm-haystack) (1.2.0)\n",
            "Requirement already satisfied: multidict<7.0,>=4.5 in /usr/local/lib/python3.7/dist-packages (from aiohttp->ray==1.5.0->farm-haystack) (5.2.0)\n",
            "Requirement already satisfied: asynctest==0.13.0 in /usr/local/lib/python3.7/dist-packages (from aiohttp->ray==1.5.0->farm-haystack) (0.13.0)\n",
            "Requirement already satisfied: attrs>=17.3.0 in /usr/local/lib/python3.7/dist-packages (from aiohttp->ray==1.5.0->farm-haystack) (21.2.0)\n",
            "Requirement already satisfied: aiosignal>=1.1.2 in /usr/local/lib/python3.7/dist-packages (from aiohttp->ray==1.5.0->farm-haystack) (1.2.0)\n",
            "Requirement already satisfied: yarl<2.0,>=1.0 in /usr/local/lib/python3.7/dist-packages (from aiohttp->ray==1.5.0->farm-haystack) (1.7.2)\n",
            "Requirement already satisfied: marshmallow-enum<2.0.0,>=1.5.1 in /usr/local/lib/python3.7/dist-packages (from dataclasses-json->farm-haystack) (1.5.1)\n",
            "Requirement already satisfied: typing-inspect>=0.4.0 in /usr/local/lib/python3.7/dist-packages (from dataclasses-json->farm-haystack) (0.7.1)\n",
            "Requirement already satisfied: marshmallow<4.0.0,>=3.3.0 in /usr/local/lib/python3.7/dist-packages (from dataclasses-json->farm-haystack) (3.14.1)\n",
            "Requirement already satisfied: mypy-extensions>=0.3.0 in /usr/local/lib/python3.7/dist-packages (from typing-inspect>=0.4.0->dataclasses-json->farm-haystack) (0.4.3)\n",
            "Requirement already satisfied: wrapt<2,>=1.10 in /usr/local/lib/python3.7/dist-packages (from deprecated->redis>=3.5.0->ray==1.5.0->farm-haystack) (1.13.3)\n",
            "Requirement already satisfied: starlette==0.16.0 in /usr/local/lib/python3.7/dist-packages (from fastapi->farm-haystack) (0.16.0)\n",
            "Requirement already satisfied: anyio<4,>=3.0.0 in /usr/local/lib/python3.7/dist-packages (from starlette==0.16.0->fastapi->farm-haystack) (3.4.0)\n",
            "Requirement already satisfied: sniffio>=1.1 in /usr/local/lib/python3.7/dist-packages (from anyio<4,>=3.0.0->starlette==0.16.0->fastapi->farm-haystack) (1.2.0)\n",
            "Requirement already satisfied: Werkzeug<2.0,>=0.15 in /usr/local/lib/python3.7/dist-packages (from Flask->mlflow<=1.13.1->farm-haystack) (1.0.1)\n",
            "Requirement already satisfied: itsdangerous<2.0,>=0.24 in /usr/local/lib/python3.7/dist-packages (from Flask->mlflow<=1.13.1->farm-haystack) (1.1.0)\n",
            "Requirement already satisfied: Jinja2<3.0,>=2.10.1 in /usr/local/lib/python3.7/dist-packages (from Flask->mlflow<=1.13.1->farm-haystack) (2.11.3)\n",
            "Requirement already satisfied: MarkupSafe>=0.23 in /usr/local/lib/python3.7/dist-packages (from Jinja2<3.0,>=2.10.1->Flask->mlflow<=1.13.1->farm-haystack) (2.0.1)\n",
            "Requirement already satisfied: nvidia-ml-py3>=7.352.0 in /usr/local/lib/python3.7/dist-packages (from gpustat->ray==1.5.0->farm-haystack) (7.352.0)\n",
            "Requirement already satisfied: blessings>=1.6 in /usr/local/lib/python3.7/dist-packages (from gpustat->ray==1.5.0->farm-haystack) (1.7)\n",
            "Requirement already satisfied: zipp>=0.5 in /usr/local/lib/python3.7/dist-packages (from importlib-metadata->transformers==4.7.0->farm-haystack) (3.6.0)\n",
            "Requirement already satisfied: google-api-core<3.0.0,>=1.0.0 in /usr/local/lib/python3.7/dist-packages (from opencensus->ray==1.5.0->farm-haystack) (1.26.3)\n",
            "Requirement already satisfied: opencensus-context==0.1.2 in /usr/local/lib/python3.7/dist-packages (from opencensus->ray==1.5.0->farm-haystack) (0.1.2)\n",
            "Requirement already satisfied: googleapis-common-protos<2.0dev,>=1.6.0 in /usr/local/lib/python3.7/dist-packages (from google-api-core<3.0.0,>=1.0.0->opencensus->ray==1.5.0->farm-haystack) (1.53.0)\n",
            "Requirement already satisfied: pytz in /usr/local/lib/python3.7/dist-packages (from google-api-core<3.0.0,>=1.0.0->opencensus->ray==1.5.0->farm-haystack) (2018.9)\n",
            "Requirement already satisfied: google-auth<2.0dev,>=1.21.1 in /usr/local/lib/python3.7/dist-packages (from google-api-core<3.0.0,>=1.0.0->opencensus->ray==1.5.0->farm-haystack) (1.35.0)\n",
            "Requirement already satisfied: rsa<5,>=3.1.4 in /usr/local/lib/python3.7/dist-packages (from google-auth<2.0dev,>=1.21.1->google-api-core<3.0.0,>=1.0.0->opencensus->ray==1.5.0->farm-haystack) (4.8)\n",
            "Requirement already satisfied: cachetools<5.0,>=2.0.0 in /usr/local/lib/python3.7/dist-packages (from google-auth<2.0dev,>=1.21.1->google-api-core<3.0.0,>=1.0.0->opencensus->ray==1.5.0->farm-haystack) (4.2.4)\n",
            "Requirement already satisfied: pyasn1-modules>=0.2.1 in /usr/local/lib/python3.7/dist-packages (from google-auth<2.0dev,>=1.21.1->google-api-core<3.0.0,>=1.0.0->opencensus->ray==1.5.0->farm-haystack) (0.2.8)\n",
            "Requirement already satisfied: pyparsing!=3.0.5,>=2.0.2 in /usr/local/lib/python3.7/dist-packages (from packaging->transformers==4.7.0->farm-haystack) (3.0.6)\n",
            "Requirement already satisfied: pyasn1<0.5.0,>=0.4.6 in /usr/local/lib/python3.7/dist-packages (from pyasn1-modules>=0.2.1->google-auth<2.0dev,>=1.21.1->google-api-core<3.0.0,>=1.0.0->opencensus->ray==1.5.0->farm-haystack) (0.4.8)\n",
            "Requirement already satisfied: ujson>=2.0.0 in /usr/local/lib/python3.7/dist-packages (from pymilvus->farm-haystack) (5.1.0)\n",
            "Requirement already satisfied: grpcio-tools<1.38.0,>=1.22.0 in /usr/local/lib/python3.7/dist-packages (from pymilvus->farm-haystack) (1.34.1)\n",
            "Requirement already satisfied: lxml>=2.3.2 in /usr/local/lib/python3.7/dist-packages (from python-docx->farm-haystack) (4.2.6)\n",
            "Requirement already satisfied: inflect in /usr/local/lib/python3.7/dist-packages (from quantulum3->farm-haystack) (2.1.0)\n",
            "Requirement already satisfied: num2words in /usr/local/lib/python3.7/dist-packages (from quantulum3->farm-haystack) (0.5.10)\n",
            "Requirement already satisfied: docopt>=0.6.2 in /usr/local/lib/python3.7/dist-packages (from num2words->quantulum3->farm-haystack) (0.6.2)\n",
            "Requirement already satisfied: joblib in /usr/local/lib/python3.7/dist-packages (from sacremoses->transformers==4.7.0->farm-haystack) (1.1.0)\n",
            "Requirement already satisfied: threadpoolctl>=2.0.0 in /usr/local/lib/python3.7/dist-packages (from scikit-learn->sentence-transformers>=0.4.0->farm-haystack) (3.0.0)\n",
            "Requirement already satisfied: rdflib>=4.0 in /usr/local/lib/python3.7/dist-packages (from SPARQLWrapper->farm-haystack) (6.1.1)\n",
            "Requirement already satisfied: py>=1.4.17 in /usr/local/lib/python3.7/dist-packages (from tox->farm-haystack) (1.11.0)\n",
            "Requirement already satisfied: virtualenv!=20.0.0,!=20.0.1,!=20.0.2,!=20.0.3,!=20.0.4,!=20.0.5,!=20.0.6,!=20.0.7,>=16.0.0 in /usr/local/lib/python3.7/dist-packages (from tox->farm-haystack) (20.10.0)\n",
            "Requirement already satisfied: pluggy>=0.12.0 in /usr/local/lib/python3.7/dist-packages (from tox->farm-haystack) (1.0.0)\n",
            "Requirement already satisfied: toml>=0.9.4 in /usr/local/lib/python3.7/dist-packages (from tox->farm-haystack) (0.10.2)\n",
            "Requirement already satisfied: distlib<1,>=0.3.1 in /usr/local/lib/python3.7/dist-packages (from virtualenv!=20.0.0,!=20.0.1,!=20.0.2,!=20.0.3,!=20.0.4,!=20.0.5,!=20.0.6,!=20.0.7,>=16.0.0->tox->farm-haystack) (0.3.4)\n",
            "Requirement already satisfied: platformdirs<3,>=2 in /usr/local/lib/python3.7/dist-packages (from virtualenv!=20.0.0,!=20.0.1,!=20.0.2,!=20.0.3,!=20.0.4,!=20.0.5,!=20.0.6,!=20.0.7,>=16.0.0->tox->farm-haystack) (2.4.0)\n",
            "Requirement already satisfied: backports.entry-points-selectable>=1.0.4 in /usr/local/lib/python3.7/dist-packages (from virtualenv!=20.0.0,!=20.0.1,!=20.0.2,!=20.0.3,!=20.0.4,!=20.0.5,!=20.0.6,!=20.0.7,>=16.0.0->tox->farm-haystack) (1.1.1)\n",
            "Requirement already satisfied: h11>=0.8 in /usr/local/lib/python3.7/dist-packages (from uvicorn->farm-haystack) (0.12.0)\n",
            "Requirement already satisfied: asgiref>=3.4.0 in /usr/local/lib/python3.7/dist-packages (from uvicorn->farm-haystack) (3.4.1)\n",
            "Installing collected packages: huggingface-hub, transformers\n",
            "  Attempting uninstall: huggingface-hub\n",
            "    Found existing installation: huggingface-hub 0.2.1\n",
            "    Uninstalling huggingface-hub-0.2.1:\n",
            "      Successfully uninstalled huggingface-hub-0.2.1\n",
            "  Attempting uninstall: transformers\n",
            "    Found existing installation: transformers 4.13.0\n",
            "    Uninstalling transformers-4.13.0:\n",
            "      Successfully uninstalled transformers-4.13.0\n",
            "Successfully installed huggingface-hub-0.0.8 transformers-4.7.0\n",
            "Requirement already satisfied: grpcio-tools==1.34.1 in /usr/local/lib/python3.7/dist-packages (1.34.1)\n",
            "Requirement already satisfied: grpcio>=1.34.1 in /usr/local/lib/python3.7/dist-packages (from grpcio-tools==1.34.1) (1.37.1)\n",
            "Requirement already satisfied: protobuf<4.0dev,>=3.5.0.post1 in /usr/local/lib/python3.7/dist-packages (from grpcio-tools==1.34.1) (3.17.3)\n",
            "Requirement already satisfied: setuptools in /usr/local/lib/python3.7/dist-packages (from grpcio-tools==1.34.1) (57.4.0)\n",
            "Requirement already satisfied: six>=1.5.2 in /usr/local/lib/python3.7/dist-packages (from grpcio>=1.34.1->grpcio-tools==1.34.1) (1.15.0)\n",
            "Collecting git+https://github.com/deepset-ai/haystack.git\n",
            "  Cloning https://github.com/deepset-ai/haystack.git to /tmp/pip-req-build-3bp_me5g\n",
            "  Running command git clone -q https://github.com/deepset-ai/haystack.git /tmp/pip-req-build-3bp_me5g\n",
            "Requirement already satisfied: setuptools in /usr/local/lib/python3.7/dist-packages (from farm-haystack==1.0.0) (57.4.0)\n",
            "Requirement already satisfied: wheel in /usr/local/lib/python3.7/dist-packages (from farm-haystack==1.0.0) (0.37.0)\n",
            "Requirement already satisfied: torch<1.11,>1.5 in /usr/local/lib/python3.7/dist-packages (from farm-haystack==1.0.0) (1.8.0+cu111)\n",
            "Requirement already satisfied: tqdm in /usr/local/lib/python3.7/dist-packages (from farm-haystack==1.0.0) (4.62.3)\n",
            "Requirement already satisfied: requests in /usr/local/lib/python3.7/dist-packages (from farm-haystack==1.0.0) (2.23.0)\n",
            "Requirement already satisfied: scipy>=1.3.2 in /usr/local/lib/python3.7/dist-packages (from farm-haystack==1.0.0) (1.4.1)\n",
            "Requirement already satisfied: sklearn in /usr/local/lib/python3.7/dist-packages (from farm-haystack==1.0.0) (0.0)\n",
            "Requirement already satisfied: seqeval in /usr/local/lib/python3.7/dist-packages (from farm-haystack==1.0.0) (1.2.2)\n",
            "Requirement already satisfied: mlflow<=1.13.1 in /usr/local/lib/python3.7/dist-packages (from farm-haystack==1.0.0) (1.13.1)\n",
            "Collecting transformers==4.13.0\n",
            "  Using cached transformers-4.13.0-py3-none-any.whl (3.3 MB)\n",
            "Requirement already satisfied: dill in /usr/local/lib/python3.7/dist-packages (from farm-haystack==1.0.0) (0.3.4)\n",
            "Requirement already satisfied: psutil in /usr/local/lib/python3.7/dist-packages (from farm-haystack==1.0.0) (5.4.8)\n",
            "Requirement already satisfied: fastapi in /usr/local/lib/python3.7/dist-packages (from farm-haystack==1.0.0) (0.70.1)\n",
            "Requirement already satisfied: uvicorn in /usr/local/lib/python3.7/dist-packages (from farm-haystack==1.0.0) (0.16.0)\n",
            "Requirement already satisfied: gunicorn in /usr/local/lib/python3.7/dist-packages (from farm-haystack==1.0.0) (20.1.0)\n",
            "Requirement already satisfied: pandas in /usr/local/lib/python3.7/dist-packages (from farm-haystack==1.0.0) (1.1.5)\n",
            "Requirement already satisfied: elasticsearch<=7.10,>=7.7 in /usr/local/lib/python3.7/dist-packages (from farm-haystack==1.0.0) (7.10.0)\n",
            "Requirement already satisfied: elastic-apm in /usr/local/lib/python3.7/dist-packages (from farm-haystack==1.0.0) (6.7.2)\n",
            "Requirement already satisfied: tox in /usr/local/lib/python3.7/dist-packages (from farm-haystack==1.0.0) (3.24.4)\n",
            "Requirement already satisfied: coverage in /usr/local/lib/python3.7/dist-packages (from farm-haystack==1.0.0) (3.7.1)\n",
            "Requirement already satisfied: langdetect in /usr/local/lib/python3.7/dist-packages (from farm-haystack==1.0.0) (1.0.9)\n",
            "Requirement already satisfied: pytesseract==0.3.7 in /usr/local/lib/python3.7/dist-packages (from farm-haystack==1.0.0) (0.3.7)\n",
            "Requirement already satisfied: pillow==8.3.2 in /usr/local/lib/python3.7/dist-packages (from farm-haystack==1.0.0) (8.3.2)\n",
            "Requirement already satisfied: pdf2image==1.14.0 in /usr/local/lib/python3.7/dist-packages (from farm-haystack==1.0.0) (1.14.0)\n",
            "Requirement already satisfied: sentence-transformers>=0.4.0 in /usr/local/lib/python3.7/dist-packages (from farm-haystack==1.0.0) (2.1.0)\n",
            "Requirement already satisfied: python-multipart in /usr/local/lib/python3.7/dist-packages (from farm-haystack==1.0.0) (0.0.5)\n",
            "Requirement already satisfied: python-docx in /usr/local/lib/python3.7/dist-packages (from farm-haystack==1.0.0) (0.8.11)\n",
            "Requirement already satisfied: sqlalchemy>=1.4.2 in /usr/local/lib/python3.7/dist-packages (from farm-haystack==1.0.0) (1.4.27)\n",
            "Requirement already satisfied: sqlalchemy_utils in /usr/local/lib/python3.7/dist-packages (from farm-haystack==1.0.0) (0.38.1)\n",
            "Requirement already satisfied: faiss-cpu>=1.6.3 in /usr/local/lib/python3.7/dist-packages (from farm-haystack==1.0.0) (1.7.1.post3)\n",
            "Requirement already satisfied: tika in /usr/local/lib/python3.7/dist-packages (from farm-haystack==1.0.0) (1.24)\n",
            "Requirement already satisfied: httptools in /usr/local/lib/python3.7/dist-packages (from farm-haystack==1.0.0) (0.3.0)\n",
            "Requirement already satisfied: nltk in /usr/local/lib/python3.7/dist-packages (from farm-haystack==1.0.0) (3.2.5)\n",
            "Requirement already satisfied: more_itertools in /usr/local/lib/python3.7/dist-packages (from farm-haystack==1.0.0) (8.12.0)\n",
            "Requirement already satisfied: networkx in /usr/local/lib/python3.7/dist-packages (from farm-haystack==1.0.0) (2.6.3)\n",
            "Requirement already satisfied: pymilvus in /usr/local/lib/python3.7/dist-packages (from farm-haystack==1.0.0) (1.1.2)\n",
            "Requirement already satisfied: SPARQLWrapper in /usr/local/lib/python3.7/dist-packages (from farm-haystack==1.0.0) (1.8.5)\n",
            "Requirement already satisfied: mmh3 in /usr/local/lib/python3.7/dist-packages (from farm-haystack==1.0.0) (3.0.0)\n",
            "Requirement already satisfied: weaviate-client==2.5.0 in /usr/local/lib/python3.7/dist-packages (from farm-haystack==1.0.0) (2.5.0)\n",
            "Requirement already satisfied: ray<=1.8.0,>=1.5.0 in /usr/local/lib/python3.7/dist-packages (from farm-haystack==1.0.0) (1.5.0)\n",
            "Requirement already satisfied: dataclasses-json in /usr/local/lib/python3.7/dist-packages (from farm-haystack==1.0.0) (0.5.6)\n",
            "Requirement already satisfied: quantulum3 in /usr/local/lib/python3.7/dist-packages (from farm-haystack==1.0.0) (0.7.9)\n",
            "Requirement already satisfied: azure-ai-formrecognizer==3.2.0b2 in /usr/local/lib/python3.7/dist-packages (from farm-haystack==1.0.0) (3.2.0b2)\n",
            "Requirement already satisfied: psycopg2-binary in /usr/local/lib/python3.7/dist-packages (from farm-haystack==1.0.0) (2.9.2)\n",
            "Requirement already satisfied: uvloop==0.14 in /usr/local/lib/python3.7/dist-packages (from farm-haystack==1.0.0) (0.14.0)\n",
            "Requirement already satisfied: azure-common~=1.1 in /usr/local/lib/python3.7/dist-packages (from azure-ai-formrecognizer==3.2.0b2->farm-haystack==1.0.0) (1.1.27)\n",
            "Requirement already satisfied: six>=1.11.0 in /usr/local/lib/python3.7/dist-packages (from azure-ai-formrecognizer==3.2.0b2->farm-haystack==1.0.0) (1.15.0)\n",
            "Requirement already satisfied: azure-core<2.0.0,>=1.13.0 in /usr/local/lib/python3.7/dist-packages (from azure-ai-formrecognizer==3.2.0b2->farm-haystack==1.0.0) (1.21.1)\n",
            "Requirement already satisfied: msrest>=0.6.21 in /usr/local/lib/python3.7/dist-packages (from azure-ai-formrecognizer==3.2.0b2->farm-haystack==1.0.0) (0.6.21)\n",
            "Collecting huggingface-hub<1.0,>=0.1.0\n",
            "  Using cached huggingface_hub-0.2.1-py3-none-any.whl (61 kB)\n",
            "Requirement already satisfied: numpy>=1.17 in /usr/local/lib/python3.7/dist-packages (from transformers==4.13.0->farm-haystack==1.0.0) (1.19.5)\n",
            "Requirement already satisfied: importlib-metadata in /usr/local/lib/python3.7/dist-packages (from transformers==4.13.0->farm-haystack==1.0.0) (4.8.2)\n",
            "Requirement already satisfied: tokenizers<0.11,>=0.10.1 in /usr/local/lib/python3.7/dist-packages (from transformers==4.13.0->farm-haystack==1.0.0) (0.10.3)\n",
            "Requirement already satisfied: pyyaml>=5.1 in /usr/local/lib/python3.7/dist-packages (from transformers==4.13.0->farm-haystack==1.0.0) (6.0)\n",
            "Requirement already satisfied: filelock in /usr/local/lib/python3.7/dist-packages (from transformers==4.13.0->farm-haystack==1.0.0) (3.4.0)\n",
            "Requirement already satisfied: packaging>=20.0 in /usr/local/lib/python3.7/dist-packages (from transformers==4.13.0->farm-haystack==1.0.0) (21.3)\n",
            "Requirement already satisfied: sacremoses in /usr/local/lib/python3.7/dist-packages (from transformers==4.13.0->farm-haystack==1.0.0) (0.0.46)\n",
            "Requirement already satisfied: regex!=2019.12.17 in /usr/local/lib/python3.7/dist-packages (from transformers==4.13.0->farm-haystack==1.0.0) (2019.12.20)\n",
            "Requirement already satisfied: validators>=0.18.2 in /usr/local/lib/python3.7/dist-packages (from weaviate-client==2.5.0->farm-haystack==1.0.0) (0.18.2)\n",
            "Requirement already satisfied: urllib3<2,>=1.21.1 in /usr/local/lib/python3.7/dist-packages (from elasticsearch<=7.10,>=7.7->farm-haystack==1.0.0) (1.24.3)\n",
            "Requirement already satisfied: certifi in /usr/local/lib/python3.7/dist-packages (from elasticsearch<=7.10,>=7.7->farm-haystack==1.0.0) (2021.10.8)\n",
            "Requirement already satisfied: typing-extensions>=3.7.4.3 in /usr/local/lib/python3.7/dist-packages (from huggingface-hub<1.0,>=0.1.0->transformers==4.13.0->farm-haystack==1.0.0) (3.10.0.2)\n",
            "Requirement already satisfied: docker>=4.0.0 in /usr/local/lib/python3.7/dist-packages (from mlflow<=1.13.1->farm-haystack==1.0.0) (5.0.3)\n",
            "Requirement already satisfied: querystring-parser in /usr/local/lib/python3.7/dist-packages (from mlflow<=1.13.1->farm-haystack==1.0.0) (1.2.4)\n",
            "Requirement already satisfied: Flask in /usr/local/lib/python3.7/dist-packages (from mlflow<=1.13.1->farm-haystack==1.0.0) (1.1.4)\n",
            "Requirement already satisfied: databricks-cli>=0.8.7 in /usr/local/lib/python3.7/dist-packages (from mlflow<=1.13.1->farm-haystack==1.0.0) (0.16.2)\n",
            "Requirement already satisfied: protobuf>=3.6.0 in /usr/local/lib/python3.7/dist-packages (from mlflow<=1.13.1->farm-haystack==1.0.0) (3.17.3)\n",
            "Requirement already satisfied: gitpython>=2.1.0 in /usr/local/lib/python3.7/dist-packages (from mlflow<=1.13.1->farm-haystack==1.0.0) (3.1.24)\n",
            "Requirement already satisfied: prometheus-flask-exporter in /usr/local/lib/python3.7/dist-packages (from mlflow<=1.13.1->farm-haystack==1.0.0) (0.18.6)\n",
            "Requirement already satisfied: sqlparse>=0.3.1 in /usr/local/lib/python3.7/dist-packages (from mlflow<=1.13.1->farm-haystack==1.0.0) (0.4.2)\n",
            "Requirement already satisfied: azure-storage-blob>=12.0.0 in /usr/local/lib/python3.7/dist-packages (from mlflow<=1.13.1->farm-haystack==1.0.0) (12.9.0)\n",
            "Requirement already satisfied: cloudpickle in /usr/local/lib/python3.7/dist-packages (from mlflow<=1.13.1->farm-haystack==1.0.0) (1.3.0)\n",
            "Requirement already satisfied: click>=7.0 in /usr/local/lib/python3.7/dist-packages (from mlflow<=1.13.1->farm-haystack==1.0.0) (7.1.2)\n",
            "Requirement already satisfied: alembic<=1.4.1 in /usr/local/lib/python3.7/dist-packages (from mlflow<=1.13.1->farm-haystack==1.0.0) (1.4.1)\n",
            "Requirement already satisfied: entrypoints in /usr/local/lib/python3.7/dist-packages (from mlflow<=1.13.1->farm-haystack==1.0.0) (0.3)\n",
            "Requirement already satisfied: python-dateutil in /usr/local/lib/python3.7/dist-packages (from mlflow<=1.13.1->farm-haystack==1.0.0) (2.8.2)\n",
            "Requirement already satisfied: Mako in /usr/local/lib/python3.7/dist-packages (from alembic<=1.4.1->mlflow<=1.13.1->farm-haystack==1.0.0) (1.1.6)\n",
            "Requirement already satisfied: python-editor>=0.3 in /usr/local/lib/python3.7/dist-packages (from alembic<=1.4.1->mlflow<=1.13.1->farm-haystack==1.0.0) (1.0.4)\n",
            "Requirement already satisfied: cryptography>=2.1.4 in /usr/local/lib/python3.7/dist-packages (from azure-storage-blob>=12.0.0->mlflow<=1.13.1->farm-haystack==1.0.0) (36.0.1)\n",
            "Requirement already satisfied: cffi>=1.12 in /usr/local/lib/python3.7/dist-packages (from cryptography>=2.1.4->azure-storage-blob>=12.0.0->mlflow<=1.13.1->farm-haystack==1.0.0) (1.15.0)\n",
            "Requirement already satisfied: pycparser in /usr/local/lib/python3.7/dist-packages (from cffi>=1.12->cryptography>=2.1.4->azure-storage-blob>=12.0.0->mlflow<=1.13.1->farm-haystack==1.0.0) (2.21)\n",
            "Requirement already satisfied: tabulate>=0.7.7 in /usr/local/lib/python3.7/dist-packages (from databricks-cli>=0.8.7->mlflow<=1.13.1->farm-haystack==1.0.0) (0.8.9)\n",
            "Requirement already satisfied: websocket-client>=0.32.0 in /usr/local/lib/python3.7/dist-packages (from docker>=4.0.0->mlflow<=1.13.1->farm-haystack==1.0.0) (1.2.3)\n",
            "Requirement already satisfied: gitdb<5,>=4.0.1 in /usr/local/lib/python3.7/dist-packages (from gitpython>=2.1.0->mlflow<=1.13.1->farm-haystack==1.0.0) (4.0.9)\n",
            "Requirement already satisfied: smmap<6,>=3.0.1 in /usr/local/lib/python3.7/dist-packages (from gitdb<5,>=4.0.1->gitpython>=2.1.0->mlflow<=1.13.1->farm-haystack==1.0.0) (5.0.0)\n",
            "Requirement already satisfied: isodate>=0.6.0 in /usr/local/lib/python3.7/dist-packages (from msrest>=0.6.21->azure-ai-formrecognizer==3.2.0b2->farm-haystack==1.0.0) (0.6.1)\n",
            "Requirement already satisfied: requests-oauthlib>=0.5.0 in /usr/local/lib/python3.7/dist-packages (from msrest>=0.6.21->azure-ai-formrecognizer==3.2.0b2->farm-haystack==1.0.0) (1.3.0)\n",
            "Requirement already satisfied: pyparsing!=3.0.5,>=2.0.2 in /usr/local/lib/python3.7/dist-packages (from packaging>=20.0->transformers==4.13.0->farm-haystack==1.0.0) (3.0.6)\n",
            "Requirement already satisfied: jsonschema in /usr/local/lib/python3.7/dist-packages (from ray<=1.8.0,>=1.5.0->farm-haystack==1.0.0) (2.6.0)\n",
            "Requirement already satisfied: prometheus-client>=0.7.1 in /usr/local/lib/python3.7/dist-packages (from ray<=1.8.0,>=1.5.0->farm-haystack==1.0.0) (0.12.0)\n",
            "Requirement already satisfied: msgpack<2.0.0,>=1.0.0 in /usr/local/lib/python3.7/dist-packages (from ray<=1.8.0,>=1.5.0->farm-haystack==1.0.0) (1.0.3)\n",
            "Requirement already satisfied: redis>=3.5.0 in /usr/local/lib/python3.7/dist-packages (from ray<=1.8.0,>=1.5.0->farm-haystack==1.0.0) (4.0.2)\n",
            "Requirement already satisfied: py-spy>=0.2.0 in /usr/local/lib/python3.7/dist-packages (from ray<=1.8.0,>=1.5.0->farm-haystack==1.0.0) (0.3.11)\n",
            "Requirement already satisfied: aiohttp-cors in /usr/local/lib/python3.7/dist-packages (from ray<=1.8.0,>=1.5.0->farm-haystack==1.0.0) (0.7.0)\n",
            "Requirement already satisfied: grpcio>=1.28.1 in /usr/local/lib/python3.7/dist-packages (from ray<=1.8.0,>=1.5.0->farm-haystack==1.0.0) (1.37.1)\n",
            "Requirement already satisfied: opencensus in /usr/local/lib/python3.7/dist-packages (from ray<=1.8.0,>=1.5.0->farm-haystack==1.0.0) (0.8.0)\n",
            "Requirement already satisfied: gpustat in /usr/local/lib/python3.7/dist-packages (from ray<=1.8.0,>=1.5.0->farm-haystack==1.0.0) (0.6.0)\n",
            "Requirement already satisfied: colorama in /usr/local/lib/python3.7/dist-packages (from ray<=1.8.0,>=1.5.0->farm-haystack==1.0.0) (0.4.4)\n",
            "Requirement already satisfied: aiohttp in /usr/local/lib/python3.7/dist-packages (from ray<=1.8.0,>=1.5.0->farm-haystack==1.0.0) (3.8.1)\n",
            "Requirement already satisfied: aioredis in /usr/local/lib/python3.7/dist-packages (from ray<=1.8.0,>=1.5.0->farm-haystack==1.0.0) (2.0.0)\n",
            "Requirement already satisfied: pydantic>=1.8 in /usr/local/lib/python3.7/dist-packages (from ray<=1.8.0,>=1.5.0->farm-haystack==1.0.0) (1.8.2)\n",
            "Requirement already satisfied: deprecated in /usr/local/lib/python3.7/dist-packages (from redis>=3.5.0->ray<=1.8.0,>=1.5.0->farm-haystack==1.0.0) (1.2.13)\n",
            "Requirement already satisfied: chardet<4,>=3.0.2 in /usr/local/lib/python3.7/dist-packages (from requests->farm-haystack==1.0.0) (3.0.4)\n",
            "Requirement already satisfied: idna<3,>=2.5 in /usr/local/lib/python3.7/dist-packages (from requests->farm-haystack==1.0.0) (2.10)\n",
            "Requirement already satisfied: oauthlib>=3.0.0 in /usr/local/lib/python3.7/dist-packages (from requests-oauthlib>=0.5.0->msrest>=0.6.21->azure-ai-formrecognizer==3.2.0b2->farm-haystack==1.0.0) (3.1.1)\n",
            "Requirement already satisfied: torchvision in /usr/local/lib/python3.7/dist-packages (from sentence-transformers>=0.4.0->farm-haystack==1.0.0) (0.9.0+cu111)\n",
            "Requirement already satisfied: sentencepiece in /usr/local/lib/python3.7/dist-packages (from sentence-transformers>=0.4.0->farm-haystack==1.0.0) (0.1.96)\n",
            "Requirement already satisfied: scikit-learn in /usr/local/lib/python3.7/dist-packages (from sentence-transformers>=0.4.0->farm-haystack==1.0.0) (1.0.1)\n",
            "Requirement already satisfied: greenlet!=0.4.17 in /usr/local/lib/python3.7/dist-packages (from sqlalchemy>=1.4.2->farm-haystack==1.0.0) (1.1.2)\n",
            "Requirement already satisfied: decorator>=3.4.0 in /usr/local/lib/python3.7/dist-packages (from validators>=0.18.2->weaviate-client==2.5.0->farm-haystack==1.0.0) (4.4.2)\n",
            "Requirement already satisfied: charset-normalizer<3.0,>=2.0 in /usr/local/lib/python3.7/dist-packages (from aiohttp->ray<=1.8.0,>=1.5.0->farm-haystack==1.0.0) (2.0.8)\n",
            "Requirement already satisfied: attrs>=17.3.0 in /usr/local/lib/python3.7/dist-packages (from aiohttp->ray<=1.8.0,>=1.5.0->farm-haystack==1.0.0) (21.2.0)\n",
            "Requirement already satisfied: aiosignal>=1.1.2 in /usr/local/lib/python3.7/dist-packages (from aiohttp->ray<=1.8.0,>=1.5.0->farm-haystack==1.0.0) (1.2.0)\n",
            "Requirement already satisfied: asynctest==0.13.0 in /usr/local/lib/python3.7/dist-packages (from aiohttp->ray<=1.8.0,>=1.5.0->farm-haystack==1.0.0) (0.13.0)\n",
            "Requirement already satisfied: frozenlist>=1.1.1 in /usr/local/lib/python3.7/dist-packages (from aiohttp->ray<=1.8.0,>=1.5.0->farm-haystack==1.0.0) (1.2.0)\n",
            "Requirement already satisfied: yarl<2.0,>=1.0 in /usr/local/lib/python3.7/dist-packages (from aiohttp->ray<=1.8.0,>=1.5.0->farm-haystack==1.0.0) (1.7.2)\n",
            "Requirement already satisfied: multidict<7.0,>=4.5 in /usr/local/lib/python3.7/dist-packages (from aiohttp->ray<=1.8.0,>=1.5.0->farm-haystack==1.0.0) (5.2.0)\n",
            "Requirement already satisfied: async-timeout<5.0,>=4.0.0a3 in /usr/local/lib/python3.7/dist-packages (from aiohttp->ray<=1.8.0,>=1.5.0->farm-haystack==1.0.0) (4.0.2)\n",
            "Requirement already satisfied: marshmallow-enum<2.0.0,>=1.5.1 in /usr/local/lib/python3.7/dist-packages (from dataclasses-json->farm-haystack==1.0.0) (1.5.1)\n",
            "Requirement already satisfied: marshmallow<4.0.0,>=3.3.0 in /usr/local/lib/python3.7/dist-packages (from dataclasses-json->farm-haystack==1.0.0) (3.14.1)\n",
            "Requirement already satisfied: typing-inspect>=0.4.0 in /usr/local/lib/python3.7/dist-packages (from dataclasses-json->farm-haystack==1.0.0) (0.7.1)\n",
            "Requirement already satisfied: mypy-extensions>=0.3.0 in /usr/local/lib/python3.7/dist-packages (from typing-inspect>=0.4.0->dataclasses-json->farm-haystack==1.0.0) (0.4.3)\n",
            "Requirement already satisfied: wrapt<2,>=1.10 in /usr/local/lib/python3.7/dist-packages (from deprecated->redis>=3.5.0->ray<=1.8.0,>=1.5.0->farm-haystack==1.0.0) (1.13.3)\n",
            "Requirement already satisfied: starlette==0.16.0 in /usr/local/lib/python3.7/dist-packages (from fastapi->farm-haystack==1.0.0) (0.16.0)\n",
            "Requirement already satisfied: anyio<4,>=3.0.0 in /usr/local/lib/python3.7/dist-packages (from starlette==0.16.0->fastapi->farm-haystack==1.0.0) (3.4.0)\n",
            "Requirement already satisfied: sniffio>=1.1 in /usr/local/lib/python3.7/dist-packages (from anyio<4,>=3.0.0->starlette==0.16.0->fastapi->farm-haystack==1.0.0) (1.2.0)\n",
            "Requirement already satisfied: Jinja2<3.0,>=2.10.1 in /usr/local/lib/python3.7/dist-packages (from Flask->mlflow<=1.13.1->farm-haystack==1.0.0) (2.11.3)\n",
            "Requirement already satisfied: Werkzeug<2.0,>=0.15 in /usr/local/lib/python3.7/dist-packages (from Flask->mlflow<=1.13.1->farm-haystack==1.0.0) (1.0.1)\n",
            "Requirement already satisfied: itsdangerous<2.0,>=0.24 in /usr/local/lib/python3.7/dist-packages (from Flask->mlflow<=1.13.1->farm-haystack==1.0.0) (1.1.0)\n",
            "Requirement already satisfied: MarkupSafe>=0.23 in /usr/local/lib/python3.7/dist-packages (from Jinja2<3.0,>=2.10.1->Flask->mlflow<=1.13.1->farm-haystack==1.0.0) (2.0.1)\n",
            "Requirement already satisfied: blessings>=1.6 in /usr/local/lib/python3.7/dist-packages (from gpustat->ray<=1.8.0,>=1.5.0->farm-haystack==1.0.0) (1.7)\n",
            "Requirement already satisfied: nvidia-ml-py3>=7.352.0 in /usr/local/lib/python3.7/dist-packages (from gpustat->ray<=1.8.0,>=1.5.0->farm-haystack==1.0.0) (7.352.0)\n",
            "Requirement already satisfied: zipp>=0.5 in /usr/local/lib/python3.7/dist-packages (from importlib-metadata->transformers==4.13.0->farm-haystack==1.0.0) (3.6.0)\n",
            "Requirement already satisfied: google-api-core<3.0.0,>=1.0.0 in /usr/local/lib/python3.7/dist-packages (from opencensus->ray<=1.8.0,>=1.5.0->farm-haystack==1.0.0) (1.26.3)\n",
            "Requirement already satisfied: opencensus-context==0.1.2 in /usr/local/lib/python3.7/dist-packages (from opencensus->ray<=1.8.0,>=1.5.0->farm-haystack==1.0.0) (0.1.2)\n",
            "Requirement already satisfied: pytz in /usr/local/lib/python3.7/dist-packages (from google-api-core<3.0.0,>=1.0.0->opencensus->ray<=1.8.0,>=1.5.0->farm-haystack==1.0.0) (2018.9)\n",
            "Requirement already satisfied: googleapis-common-protos<2.0dev,>=1.6.0 in /usr/local/lib/python3.7/dist-packages (from google-api-core<3.0.0,>=1.0.0->opencensus->ray<=1.8.0,>=1.5.0->farm-haystack==1.0.0) (1.53.0)\n",
            "Requirement already satisfied: google-auth<2.0dev,>=1.21.1 in /usr/local/lib/python3.7/dist-packages (from google-api-core<3.0.0,>=1.0.0->opencensus->ray<=1.8.0,>=1.5.0->farm-haystack==1.0.0) (1.35.0)\n",
            "Requirement already satisfied: pyasn1-modules>=0.2.1 in /usr/local/lib/python3.7/dist-packages (from google-auth<2.0dev,>=1.21.1->google-api-core<3.0.0,>=1.0.0->opencensus->ray<=1.8.0,>=1.5.0->farm-haystack==1.0.0) (0.2.8)\n",
            "Requirement already satisfied: rsa<5,>=3.1.4 in /usr/local/lib/python3.7/dist-packages (from google-auth<2.0dev,>=1.21.1->google-api-core<3.0.0,>=1.0.0->opencensus->ray<=1.8.0,>=1.5.0->farm-haystack==1.0.0) (4.8)\n",
            "Requirement already satisfied: cachetools<5.0,>=2.0.0 in /usr/local/lib/python3.7/dist-packages (from google-auth<2.0dev,>=1.21.1->google-api-core<3.0.0,>=1.0.0->opencensus->ray<=1.8.0,>=1.5.0->farm-haystack==1.0.0) (4.2.4)\n",
            "Requirement already satisfied: pyasn1<0.5.0,>=0.4.6 in /usr/local/lib/python3.7/dist-packages (from pyasn1-modules>=0.2.1->google-auth<2.0dev,>=1.21.1->google-api-core<3.0.0,>=1.0.0->opencensus->ray<=1.8.0,>=1.5.0->farm-haystack==1.0.0) (0.4.8)\n",
            "Requirement already satisfied: ujson>=2.0.0 in /usr/local/lib/python3.7/dist-packages (from pymilvus->farm-haystack==1.0.0) (5.1.0)\n",
            "Requirement already satisfied: grpcio-tools<1.38.0,>=1.22.0 in /usr/local/lib/python3.7/dist-packages (from pymilvus->farm-haystack==1.0.0) (1.34.1)\n",
            "Requirement already satisfied: lxml>=2.3.2 in /usr/local/lib/python3.7/dist-packages (from python-docx->farm-haystack==1.0.0) (4.2.6)\n",
            "Requirement already satisfied: num2words in /usr/local/lib/python3.7/dist-packages (from quantulum3->farm-haystack==1.0.0) (0.5.10)\n",
            "Requirement already satisfied: inflect in /usr/local/lib/python3.7/dist-packages (from quantulum3->farm-haystack==1.0.0) (2.1.0)\n",
            "Requirement already satisfied: docopt>=0.6.2 in /usr/local/lib/python3.7/dist-packages (from num2words->quantulum3->farm-haystack==1.0.0) (0.6.2)\n",
            "Requirement already satisfied: joblib in /usr/local/lib/python3.7/dist-packages (from sacremoses->transformers==4.13.0->farm-haystack==1.0.0) (1.1.0)\n",
            "Requirement already satisfied: threadpoolctl>=2.0.0 in /usr/local/lib/python3.7/dist-packages (from scikit-learn->sentence-transformers>=0.4.0->farm-haystack==1.0.0) (3.0.0)\n",
            "Requirement already satisfied: rdflib>=4.0 in /usr/local/lib/python3.7/dist-packages (from SPARQLWrapper->farm-haystack==1.0.0) (6.1.1)\n",
            "Requirement already satisfied: virtualenv!=20.0.0,!=20.0.1,!=20.0.2,!=20.0.3,!=20.0.4,!=20.0.5,!=20.0.6,!=20.0.7,>=16.0.0 in /usr/local/lib/python3.7/dist-packages (from tox->farm-haystack==1.0.0) (20.10.0)\n",
            "Requirement already satisfied: toml>=0.9.4 in /usr/local/lib/python3.7/dist-packages (from tox->farm-haystack==1.0.0) (0.10.2)\n",
            "Requirement already satisfied: pluggy>=0.12.0 in /usr/local/lib/python3.7/dist-packages (from tox->farm-haystack==1.0.0) (1.0.0)\n",
            "Requirement already satisfied: py>=1.4.17 in /usr/local/lib/python3.7/dist-packages (from tox->farm-haystack==1.0.0) (1.11.0)\n",
            "Requirement already satisfied: distlib<1,>=0.3.1 in /usr/local/lib/python3.7/dist-packages (from virtualenv!=20.0.0,!=20.0.1,!=20.0.2,!=20.0.3,!=20.0.4,!=20.0.5,!=20.0.6,!=20.0.7,>=16.0.0->tox->farm-haystack==1.0.0) (0.3.4)\n",
            "Requirement already satisfied: platformdirs<3,>=2 in /usr/local/lib/python3.7/dist-packages (from virtualenv!=20.0.0,!=20.0.1,!=20.0.2,!=20.0.3,!=20.0.4,!=20.0.5,!=20.0.6,!=20.0.7,>=16.0.0->tox->farm-haystack==1.0.0) (2.4.0)\n",
            "Requirement already satisfied: backports.entry-points-selectable>=1.0.4 in /usr/local/lib/python3.7/dist-packages (from virtualenv!=20.0.0,!=20.0.1,!=20.0.2,!=20.0.3,!=20.0.4,!=20.0.5,!=20.0.6,!=20.0.7,>=16.0.0->tox->farm-haystack==1.0.0) (1.1.1)\n",
            "Requirement already satisfied: asgiref>=3.4.0 in /usr/local/lib/python3.7/dist-packages (from uvicorn->farm-haystack==1.0.0) (3.4.1)\n",
            "Requirement already satisfied: h11>=0.8 in /usr/local/lib/python3.7/dist-packages (from uvicorn->farm-haystack==1.0.0) (0.12.0)\n",
            "Installing collected packages: huggingface-hub, transformers\n",
            "  Attempting uninstall: huggingface-hub\n",
            "    Found existing installation: huggingface-hub 0.0.8\n",
            "    Uninstalling huggingface-hub-0.0.8:\n",
            "      Successfully uninstalled huggingface-hub-0.0.8\n",
            "  Attempting uninstall: transformers\n",
            "    Found existing installation: transformers 4.7.0\n",
            "    Uninstalling transformers-4.7.0:\n",
            "      Successfully uninstalled transformers-4.7.0\n",
            "\u001b[31mERROR: pip's dependency resolver does not currently take into account all the packages that are installed. This behaviour is the source of the following dependency conflicts.\n",
            "farm-haystack 1.0.0 requires transformers==4.7.0, but you have transformers 4.13.0 which is incompatible.\u001b[0m\n",
            "Successfully installed huggingface-hub-0.2.1 transformers-4.13.0\n",
            "Looking in links: https://download.pytorch.org/whl/torch_stable.html\n",
            "Requirement already satisfied: torch==1.8.0+cu111 in /usr/local/lib/python3.7/dist-packages (1.8.0+cu111)\n",
            "Requirement already satisfied: torchvision==0.9.0+cu111 in /usr/local/lib/python3.7/dist-packages (0.9.0+cu111)\n",
            "Requirement already satisfied: torchaudio==0.8.0 in /usr/local/lib/python3.7/dist-packages (0.8.0)\n",
            "Requirement already satisfied: typing-extensions in /usr/local/lib/python3.7/dist-packages (from torch==1.8.0+cu111) (3.10.0.2)\n",
            "Requirement already satisfied: numpy in /usr/local/lib/python3.7/dist-packages (from torch==1.8.0+cu111) (1.19.5)\n",
            "Requirement already satisfied: pillow>=4.1.1 in /usr/local/lib/python3.7/dist-packages (from torchvision==0.9.0+cu111) (8.3.2)\n"
          ]
        }
      ]
    },
    {
      "cell_type": "markdown",
      "metadata": {
        "id": "6l0i1haPoTbS"
      },
      "source": [
        "# Import Library"
      ]
    },
    {
      "cell_type": "code",
      "metadata": {
        "id": "pTQbsrQV3tCU",
        "colab": {
          "base_uri": "https://localhost:8080/"
        },
        "outputId": "4347b5b3-bb0d-4b01-bdd2-f5c2712f9a54"
      },
      "source": [
        "import pandas as pd\n",
        "from haystack.utils import clean_wiki_text, convert_files_to_dicts, fetch_archive_from_http, print_answers\n",
        "from haystack.nodes import FARMReader, TransformersReader, TfidfRetriever, DensePassageRetriever\n",
        "from haystack.pipelines import ExtractiveQAPipeline\n",
        "from haystack.document_stores import InMemoryDocumentStore\n",
        "from tqdm import tqdm\n",
        "\n",
        "import json\n",
        "from pathlib import Path\n",
        "from typing import Dict, Iterator, Tuple, List, Union"
      ],
      "execution_count": null,
      "outputs": [
        {
          "output_type": "stream",
          "name": "stderr",
          "text": [
            "/usr/local/lib/python3.7/dist-packages/ray/autoscaler/_private/cli_logger.py:61: FutureWarning: Not all Ray CLI dependencies were found. In Ray 1.4+, the Ray CLI, autoscaler, and dashboard will only be usable via `pip install 'ray[default]'`. Please update your install command.\n",
            "  \"update your install command.\", FutureWarning)\n"
          ]
        }
      ]
    },
    {
      "cell_type": "code",
      "metadata": {
        "id": "Hkts2d5sGNG8"
      },
      "source": [
        "# Load library for preprocess\n",
        "from haystack.nodes import PreProcessor\n",
        "from haystack.utils import convert_files_to_dicts "
      ],
      "execution_count": null,
      "outputs": []
    },
    {
      "cell_type": "code",
      "metadata": {
        "id": "bxv1QoAPwHk5"
      },
      "source": [
        "path=\"/content/drive/MyDrive/Data/Squad2.0\""
      ],
      "execution_count": null,
      "outputs": []
    },
    {
      "cell_type": "markdown",
      "metadata": {
        "id": "YiW9vi7CarUm"
      },
      "source": [
        "## Reader 1: XLM-Roberta"
      ]
    },
    {
      "cell_type": "code",
      "metadata": {
        "colab": {
          "base_uri": "https://localhost:8080/"
        },
        "id": "Udi109E3khIP",
        "outputId": "e8a53d68-07db-4dd8-9811-b980f5112f50"
      },
      "source": [
        "path_model =\"/content/drive/MyDrive/Data/Squad2.0/my_model\"\n",
        "reader = FARMReader(model_name_or_path = path_model)"
      ],
      "execution_count": null,
      "outputs": [
        {
          "output_type": "stream",
          "name": "stderr",
          "text": [
            "INFO - haystack.modeling.utils -  Using devices: CUDA\n",
            "INFO - haystack.modeling.utils -  Number of GPUs: 1\n",
            "INFO - haystack.modeling.model.language_model -  LOADING MODEL\n",
            "INFO - haystack.modeling.model.language_model -  =============\n",
            "INFO - haystack.modeling.model.language_model -  Model found locally at /content/drive/MyDrive/Data/Squad2.0/my_model\n",
            "INFO - haystack.modeling.model.language_model -  Loaded /content/drive/MyDrive/Data/Squad2.0/my_model\n",
            "INFO - haystack.modeling.model.adaptive_model -  Found files for loading 1 prediction heads\n",
            "WARNING - haystack.modeling.model.prediction_head -  Some unused parameters are passed to the QuestionAnsweringHead. Might not be a problem. Params: {\"training\": false, \"num_labels\": 2, \"ph_output_type\": \"per_token_squad\", \"model_type\": \"span_classification\", \"label_tensor_name\": \"question_answering_label_ids\", \"label_list\": [\"start_token\", \"end_token\"], \"metric\": \"squad\", \"name\": \"QuestionAnsweringHead\"}\n",
            "INFO - haystack.modeling.model.prediction_head -  Loading prediction head from /content/drive/MyDrive/Data/Squad2.0/my_model/prediction_head_0.bin\n",
            "file /content/drive/MyDrive/Data/Squad2.0/my_model/config.json not found\n",
            "INFO - haystack.modeling.data_handler.processor -  Initialized processor without tasks. Supply `metric` and `label_list` to the constructor for using the default task or add a custom task later via processor.add_task()\n",
            "INFO - haystack.modeling.logger -  ML Logging is turned off. No parameters, metrics or artifacts will be logged to MLFlow.\n",
            "INFO - haystack.modeling.utils -  Using devices: CUDA\n",
            "INFO - haystack.modeling.utils -  Number of GPUs: 1\n",
            "INFO - haystack.modeling.infer -  Got ya 2 parallel workers to do inference ...\n",
            "INFO - haystack.modeling.infer -   0    0 \n",
            "INFO - haystack.modeling.infer -  /w\\  /w\\\n",
            "INFO - haystack.modeling.infer -  /'\\  / \\\n"
          ]
        }
      ]
    },
    {
      "cell_type": "code",
      "source": [
        "# Evaluate Reader on its own\n",
        "#reader_eval_results = reader.eval(document_store=document_store, device=device, label_index=label_index, doc_index=doc_index)\n",
        "# Evaluation of Reader can also be done directly on a SQuAD-formatted file without passing the data to Elasticsearch\n",
        "reader_eval_results = reader.eval_on_file(path, \"new_train.json\")\n",
        "\n",
        "## Reader Top-N-Accuracy is the proportion of predicted answers that match with their corresponding correct answer\n",
        "print(\"Reader Top-N-Accuracy:\", reader_eval_results[\"top_n_accuracy\"])\n",
        "## Reader Exact Match is the proportion of questions where the predicted answer is exactly the same as the correct answer\n",
        "print(\"Reader Exact Match:\", reader_eval_results[\"EM\"])\n",
        "## Reader F1-Score is the average overlap between the predicted answers and the correct answers\n",
        "print(\"Reader F1-Score:\", reader_eval_results[\"f1\"])"
      ],
      "metadata": {
        "colab": {
          "base_uri": "https://localhost:8080/"
        },
        "id": "nfIPCx98wDXO",
        "outputId": "e3946200-71b3-467f-8b8a-8596c97f8609"
      },
      "execution_count": null,
      "outputs": [
        {
          "output_type": "stream",
          "name": "stderr",
          "text": [
            "INFO - haystack.modeling.data_handler.data_silo -  \n",
            "Loading data into the data silo ... \n",
            "              ______\n",
            "               |o  |   !\n",
            "   __          |:`_|---'-.\n",
            "  |__|______.-/ _ \\-----.|       \n",
            " (o)(o)------'\\ _ /     ( )      \n",
            " \n",
            "INFO - haystack.modeling.data_handler.data_silo -  LOADING TRAIN DATA\n",
            "INFO - haystack.modeling.data_handler.data_silo -  ==================\n",
            "INFO - haystack.modeling.data_handler.data_silo -  No train set is being loaded\n",
            "INFO - haystack.modeling.data_handler.data_silo -  \n",
            "INFO - haystack.modeling.data_handler.data_silo -  LOADING DEV DATA\n",
            "INFO - haystack.modeling.data_handler.data_silo -  =================\n",
            "INFO - haystack.modeling.data_handler.data_silo -  No dev set is being loaded\n",
            "INFO - haystack.modeling.data_handler.data_silo -  \n",
            "INFO - haystack.modeling.data_handler.data_silo -  LOADING TEST DATA\n",
            "INFO - haystack.modeling.data_handler.data_silo -  =================\n",
            "INFO - haystack.modeling.data_handler.data_silo -  Loading test set from: /content/drive/MyDrive/Data/Squad2.0/new_train.json\n",
            "INFO - haystack.modeling.data_handler.data_silo -  Got ya 2 parallel workers to convert 4101 dictionaries to pytorch datasets (chunksize = 411)...\n",
            "INFO - haystack.modeling.data_handler.data_silo -   0    0 \n",
            "INFO - haystack.modeling.data_handler.data_silo -  /w\\  /w\\\n",
            "INFO - haystack.modeling.data_handler.data_silo -  /'\\  /'\\\n",
            "Preprocessing Dataset /content/drive/MyDrive/Data/Squad2.0/new_train.json: 100%|██████████| 4101/4101 [00:18<00:00, 217.43 Dicts/s]\n",
            "INFO - haystack.modeling.data_handler.data_silo -  \n",
            "INFO - haystack.modeling.data_handler.data_silo -  DATASETS SUMMARY\n",
            "INFO - haystack.modeling.data_handler.data_silo -  ================\n",
            "INFO - haystack.modeling.data_handler.data_silo -  Examples in train: 0\n",
            "INFO - haystack.modeling.data_handler.data_silo -  Examples in dev  : 0\n",
            "INFO - haystack.modeling.data_handler.data_silo -  Examples in test : 25797\n",
            "INFO - haystack.modeling.data_handler.data_silo -  Total examples   : 25797\n",
            "INFO - haystack.modeling.data_handler.data_silo -  \n",
            "Evaluating: 100%|██████████| 516/516 [12:33<00:00,  1.46s/it]\n"
          ]
        },
        {
          "output_type": "stream",
          "name": "stdout",
          "text": [
            "Reader Top-N-Accuracy: 0.9914957747995048\n",
            "Reader Exact Match: 0.8123688034878088\n",
            "Reader F1-Score: 0.9448299862794828\n"
          ]
        }
      ]
    },
    {
      "cell_type": "code",
      "source": [
        "# Evaluate Reader on its own\n",
        "#reader_eval_results = reader.eval(document_store=document_store, device=device, label_index=label_index, doc_index=doc_index)\n",
        "# Evaluation of Reader can also be done directly on a SQuAD-formatted file without passing the data to Elasticsearch\n",
        "reader_eval_results = reader.eval_on_file(path, \"new_dev.json\")\n",
        "\n",
        "## Reader Top-N-Accuracy is the proportion of predicted answers that match with their corresponding correct answer\n",
        "print(\"Reader Top-N-Accuracy:\", reader_eval_results[\"top_n_accuracy\"])\n",
        "## Reader Exact Match is the proportion of questions where the predicted answer is exactly the same as the correct answer\n",
        "print(\"Reader Exact Match:\", reader_eval_results[\"EM\"])\n",
        "## Reader F1-Score is the average overlap between the predicted answers and the correct answers\n",
        "print(\"Reader F1-Score:\", reader_eval_results[\"f1\"])"
      ],
      "metadata": {
        "colab": {
          "base_uri": "https://localhost:8080/"
        },
        "id": "C7YUI-4B3xnY",
        "outputId": "a846f909-4da0-4da7-e3ce-56d714a9b4d5"
      },
      "execution_count": null,
      "outputs": [
        {
          "output_type": "stream",
          "name": "stderr",
          "text": [
            "INFO - haystack.modeling.data_handler.data_silo -  \n",
            "Loading data into the data silo ... \n",
            "              ______\n",
            "               |o  |   !\n",
            "   __          |:`_|---'-.\n",
            "  |__|______.-/ _ \\-----.|       \n",
            " (o)(o)------'\\ _ /     ( )      \n",
            " \n",
            "INFO - haystack.modeling.data_handler.data_silo -  LOADING TRAIN DATA\n",
            "INFO - haystack.modeling.data_handler.data_silo -  ==================\n",
            "INFO - haystack.modeling.data_handler.data_silo -  No train set is being loaded\n",
            "INFO - haystack.modeling.data_handler.data_silo -  \n",
            "INFO - haystack.modeling.data_handler.data_silo -  LOADING DEV DATA\n",
            "INFO - haystack.modeling.data_handler.data_silo -  =================\n",
            "INFO - haystack.modeling.data_handler.data_silo -  No dev set is being loaded\n",
            "INFO - haystack.modeling.data_handler.data_silo -  \n",
            "INFO - haystack.modeling.data_handler.data_silo -  LOADING TEST DATA\n",
            "INFO - haystack.modeling.data_handler.data_silo -  =================\n",
            "INFO - haystack.modeling.data_handler.data_silo -  Loading test set from: /content/drive/MyDrive/Data/Squad2.0/new_dev.json\n",
            "INFO - haystack.modeling.data_handler.data_silo -  Got ya 2 parallel workers to convert 515 dictionaries to pytorch datasets (chunksize = 52)...\n",
            "INFO - haystack.modeling.data_handler.data_silo -   0    0 \n",
            "INFO - haystack.modeling.data_handler.data_silo -  /w\\  /w\\\n",
            "INFO - haystack.modeling.data_handler.data_silo -  / \\  / \\\n",
            "Preprocessing Dataset /content/drive/MyDrive/Data/Squad2.0/new_dev.json: 100%|██████████| 515/515 [00:08<00:00, 60.07 Dicts/s]\n",
            "INFO - haystack.modeling.data_handler.data_silo -  \n",
            "INFO - haystack.modeling.data_handler.data_silo -  DATASETS SUMMARY\n",
            "INFO - haystack.modeling.data_handler.data_silo -  ================\n",
            "INFO - haystack.modeling.data_handler.data_silo -  Examples in train: 0\n",
            "INFO - haystack.modeling.data_handler.data_silo -  Examples in dev  : 0\n",
            "INFO - haystack.modeling.data_handler.data_silo -  Examples in test : 2970\n",
            "INFO - haystack.modeling.data_handler.data_silo -  Total examples   : 2970\n",
            "INFO - haystack.modeling.data_handler.data_silo -  \n",
            "Evaluating: 100%|██████████| 60/60 [01:26<00:00,  1.44s/it]\n"
          ]
        },
        {
          "output_type": "stream",
          "name": "stdout",
          "text": [
            "Reader Top-N-Accuracy: 0.9050328227571116\n",
            "Reader Exact Match: 0.6201312910284464\n",
            "Reader F1-Score: 0.8025070187608059\n"
          ]
        },
        {
          "output_type": "stream",
          "name": "stderr",
          "text": [
            "/usr/local/lib/python3.7/dist-packages/numpy/core/fromnumeric.py:3373: RuntimeWarning: Mean of empty slice.\n",
            "  out=out, **kwargs)\n",
            "/usr/local/lib/python3.7/dist-packages/numpy/core/_methods.py:170: RuntimeWarning: invalid value encountered in double_scalars\n",
            "  ret = ret.dtype.type(ret / rcount)\n"
          ]
        }
      ]
    },
    {
      "cell_type": "code",
      "source": [
        "# Evaluate Reader on its own\n",
        "#reader_eval_results = reader.eval(document_store=document_store, device=device, label_index=label_index, doc_index=doc_index)\n",
        "# Evaluation of Reader can also be done directly on a SQuAD-formatted file without passing the data to Elasticsearch\n",
        "reader_eval_results = reader.eval_on_file(path, \"new_test.json\")\n",
        "\n",
        "## Reader Top-N-Accuracy is the proportion of predicted answers that match with their corresponding correct answer\n",
        "print(\"Reader Top-N-Accuracy:\", reader_eval_results[\"top_n_accuracy\"])\n",
        "## Reader Exact Match is the proportion of questions where the predicted answer is exactly the same as the correct answer\n",
        "print(\"Reader Exact Match:\", reader_eval_results[\"EM\"])\n",
        "## Reader F1-Score is the average overlap between the predicted answers and the correct answers\n",
        "print(\"Reader F1-Score:\", reader_eval_results[\"f1\"])"
      ],
      "metadata": {
        "colab": {
          "base_uri": "https://localhost:8080/"
        },
        "id": "RA6urA9h3zRG",
        "outputId": "e2ef2416-b6f9-419b-fa46-0be796b9308b"
      },
      "execution_count": null,
      "outputs": [
        {
          "output_type": "stream",
          "name": "stderr",
          "text": [
            "INFO - haystack.modeling.data_handler.data_silo -  \n",
            "Loading data into the data silo ... \n",
            "              ______\n",
            "               |o  |   !\n",
            "   __          |:`_|---'-.\n",
            "  |__|______.-/ _ \\-----.|       \n",
            " (o)(o)------'\\ _ /     ( )      \n",
            " \n",
            "INFO - haystack.modeling.data_handler.data_silo -  LOADING TRAIN DATA\n",
            "INFO - haystack.modeling.data_handler.data_silo -  ==================\n",
            "INFO - haystack.modeling.data_handler.data_silo -  No train set is being loaded\n",
            "INFO - haystack.modeling.data_handler.data_silo -  \n",
            "INFO - haystack.modeling.data_handler.data_silo -  LOADING DEV DATA\n",
            "INFO - haystack.modeling.data_handler.data_silo -  =================\n",
            "INFO - haystack.modeling.data_handler.data_silo -  No dev set is being loaded\n",
            "INFO - haystack.modeling.data_handler.data_silo -  \n",
            "INFO - haystack.modeling.data_handler.data_silo -  LOADING TEST DATA\n",
            "INFO - haystack.modeling.data_handler.data_silo -  =================\n",
            "INFO - haystack.modeling.data_handler.data_silo -  Loading test set from: /content/drive/MyDrive/Data/Squad2.0/new_test.json\n",
            "INFO - haystack.modeling.data_handler.data_silo -  Got ya 2 parallel workers to convert 493 dictionaries to pytorch datasets (chunksize = 50)...\n",
            "INFO - haystack.modeling.data_handler.data_silo -   0    0 \n",
            "INFO - haystack.modeling.data_handler.data_silo -  /w\\  /|\\\n",
            "INFO - haystack.modeling.data_handler.data_silo -  /'\\  /'\\\n",
            "Preprocessing Dataset /content/drive/MyDrive/Data/Squad2.0/new_test.json: 100%|██████████| 493/493 [00:08<00:00, 59.87 Dicts/s]\n",
            "INFO - haystack.modeling.data_handler.data_silo -  \n",
            "INFO - haystack.modeling.data_handler.data_silo -  DATASETS SUMMARY\n",
            "INFO - haystack.modeling.data_handler.data_silo -  ================\n",
            "INFO - haystack.modeling.data_handler.data_silo -  Examples in train: 0\n",
            "INFO - haystack.modeling.data_handler.data_silo -  Examples in dev  : 0\n",
            "INFO - haystack.modeling.data_handler.data_silo -  Examples in test : 3075\n",
            "INFO - haystack.modeling.data_handler.data_silo -  Total examples   : 3075\n",
            "INFO - haystack.modeling.data_handler.data_silo -  \n",
            "Evaluating: 100%|██████████| 62/62 [01:29<00:00,  1.45s/it]\n"
          ]
        },
        {
          "output_type": "stream",
          "name": "stdout",
          "text": [
            "Reader Top-N-Accuracy: 0.9135746606334841\n",
            "Reader Exact Match: 0.6221719457013575\n",
            "Reader F1-Score: 0.8045488833214228\n"
          ]
        },
        {
          "output_type": "stream",
          "name": "stderr",
          "text": [
            "/usr/local/lib/python3.7/dist-packages/numpy/core/fromnumeric.py:3373: RuntimeWarning: Mean of empty slice.\n",
            "  out=out, **kwargs)\n",
            "/usr/local/lib/python3.7/dist-packages/numpy/core/_methods.py:170: RuntimeWarning: invalid value encountered in double_scalars\n",
            "  ret = ret.dtype.type(ret / rcount)\n"
          ]
        }
      ]
    },
    {
      "cell_type": "markdown",
      "source": [
        "# Reader 2: Bert-Base-Multilingual"
      ],
      "metadata": {
        "id": "kGTvGQJc6R5B"
      }
    },
    {
      "cell_type": "code",
      "source": [
        "path_model =\"/content/drive/MyDrive/Data/Squad2.0/my_model2\"\n",
        "reader = FARMReader(model_name_or_path = path_model)"
      ],
      "metadata": {
        "colab": {
          "base_uri": "https://localhost:8080/"
        },
        "id": "a4i9CYOs6Rbs",
        "outputId": "f26635a3-d24f-406f-c88a-8e3875bf3815"
      },
      "execution_count": null,
      "outputs": [
        {
          "output_type": "stream",
          "name": "stderr",
          "text": [
            "INFO - haystack.modeling.utils -  Using devices: CUDA\n",
            "INFO - haystack.modeling.utils -  Number of GPUs: 1\n",
            "INFO - haystack.modeling.model.language_model -  LOADING MODEL\n",
            "INFO - haystack.modeling.model.language_model -  =============\n",
            "INFO - haystack.modeling.model.language_model -  Model found locally at /content/drive/MyDrive/Data/Squad2.0/my_model2\n",
            "INFO - haystack.modeling.model.language_model -  Loaded /content/drive/MyDrive/Data/Squad2.0/my_model2\n",
            "INFO - haystack.modeling.model.adaptive_model -  Found files for loading 1 prediction heads\n",
            "WARNING - haystack.modeling.model.prediction_head -  Some unused parameters are passed to the QuestionAnsweringHead. Might not be a problem. Params: {\"training\": false, \"num_labels\": 2, \"ph_output_type\": \"per_token_squad\", \"model_type\": \"span_classification\", \"label_tensor_name\": \"question_answering_label_ids\", \"label_list\": [\"start_token\", \"end_token\"], \"metric\": \"squad\", \"name\": \"QuestionAnsweringHead\"}\n",
            "INFO - haystack.modeling.model.prediction_head -  Loading prediction head from /content/drive/MyDrive/Data/Squad2.0/my_model2/prediction_head_0.bin\n",
            "file /content/drive/MyDrive/Data/Squad2.0/my_model2/config.json not found\n",
            "INFO - haystack.modeling.data_handler.processor -  Initialized processor without tasks. Supply `metric` and `label_list` to the constructor for using the default task or add a custom task later via processor.add_task()\n",
            "INFO - haystack.modeling.logger -  ML Logging is turned off. No parameters, metrics or artifacts will be logged to MLFlow.\n",
            "INFO - haystack.modeling.utils -  Using devices: CUDA\n",
            "INFO - haystack.modeling.utils -  Number of GPUs: 1\n",
            "INFO - haystack.modeling.infer -  Got ya 2 parallel workers to do inference ...\n",
            "INFO - haystack.modeling.infer -   0    0 \n",
            "INFO - haystack.modeling.infer -  /w\\  /w\\\n",
            "INFO - haystack.modeling.infer -  /'\\  / \\\n"
          ]
        }
      ]
    },
    {
      "cell_type": "code",
      "source": [
        "# Evaluate Reader on its own\n",
        "#reader_eval_results = reader.eval(document_store=document_store, device=device, label_index=label_index, doc_index=doc_index)\n",
        "# Evaluation of Reader can also be done directly on a SQuAD-formatted file without passing the data to Elasticsearch\n",
        "reader_eval_results = reader.eval_on_file(path, \"new_train.json\")\n",
        "\n",
        "## Reader Top-N-Accuracy is the proportion of predicted answers that match with their corresponding correct answer\n",
        "print(\"Reader Top-N-Accuracy:\", reader_eval_results[\"top_n_accuracy\"])\n",
        "## Reader Exact Match is the proportion of questions where the predicted answer is exactly the same as the correct answer\n",
        "print(\"Reader Exact Match:\", reader_eval_results[\"EM\"])\n",
        "## Reader F1-Score is the average overlap between the predicted answers and the correct answers\n",
        "print(\"Reader F1-Score:\", reader_eval_results[\"f1\"])"
      ],
      "metadata": {
        "colab": {
          "base_uri": "https://localhost:8080/"
        },
        "id": "5u0rGHmi61AZ",
        "outputId": "50e32da9-54c8-45c8-e80f-5cac598119fb"
      },
      "execution_count": null,
      "outputs": [
        {
          "output_type": "stream",
          "name": "stderr",
          "text": [
            "INFO - haystack.modeling.data_handler.data_silo -  \n",
            "Loading data into the data silo ... \n",
            "              ______\n",
            "               |o  |   !\n",
            "   __          |:`_|---'-.\n",
            "  |__|______.-/ _ \\-----.|       \n",
            " (o)(o)------'\\ _ /     ( )      \n",
            " \n",
            "INFO - haystack.modeling.data_handler.data_silo -  LOADING TRAIN DATA\n",
            "INFO - haystack.modeling.data_handler.data_silo -  ==================\n",
            "INFO - haystack.modeling.data_handler.data_silo -  No train set is being loaded\n",
            "INFO - haystack.modeling.data_handler.data_silo -  \n",
            "INFO - haystack.modeling.data_handler.data_silo -  LOADING DEV DATA\n",
            "INFO - haystack.modeling.data_handler.data_silo -  =================\n",
            "INFO - haystack.modeling.data_handler.data_silo -  No dev set is being loaded\n",
            "INFO - haystack.modeling.data_handler.data_silo -  \n",
            "INFO - haystack.modeling.data_handler.data_silo -  LOADING TEST DATA\n",
            "INFO - haystack.modeling.data_handler.data_silo -  =================\n",
            "INFO - haystack.modeling.data_handler.data_silo -  Loading test set from: /content/drive/MyDrive/Data/Squad2.0/new_train.json\n",
            "INFO - haystack.modeling.data_handler.data_silo -  Got ya 2 parallel workers to convert 4101 dictionaries to pytorch datasets (chunksize = 411)...\n",
            "INFO - haystack.modeling.data_handler.data_silo -   0    0 \n",
            "INFO - haystack.modeling.data_handler.data_silo -  /w\\  /w\\\n",
            "INFO - haystack.modeling.data_handler.data_silo -  /'\\  /'\\\n",
            "Preprocessing Dataset /content/drive/MyDrive/Data/Squad2.0/new_train.json: 100%|██████████| 4101/4101 [00:12<00:00, 320.99 Dicts/s]\n",
            "INFO - haystack.modeling.data_handler.data_silo -  \n",
            "INFO - haystack.modeling.data_handler.data_silo -  DATASETS SUMMARY\n",
            "INFO - haystack.modeling.data_handler.data_silo -  ================\n",
            "INFO - haystack.modeling.data_handler.data_silo -  Examples in train: 0\n",
            "INFO - haystack.modeling.data_handler.data_silo -  Examples in dev  : 0\n",
            "INFO - haystack.modeling.data_handler.data_silo -  Examples in test : 24468\n",
            "INFO - haystack.modeling.data_handler.data_silo -  Total examples   : 24468\n",
            "INFO - haystack.modeling.data_handler.data_silo -  \n",
            "Evaluating: 100%|██████████| 490/490 [11:57<00:00,  1.46s/it]\n"
          ]
        },
        {
          "output_type": "stream",
          "name": "stdout",
          "text": [
            "Reader Top-N-Accuracy: 0.981968889606545\n",
            "Reader Exact Match: 0.7901394047042359\n",
            "Reader F1-Score: 0.9228667095462856\n"
          ]
        }
      ]
    },
    {
      "cell_type": "code",
      "source": [
        "# Evaluate Reader on its own\n",
        "#reader_eval_results = reader.eval(document_store=document_store, device=device, label_index=label_index, doc_index=doc_index)\n",
        "# Evaluation of Reader can also be done directly on a SQuAD-formatted file without passing the data to Elasticsearch\n",
        "reader_eval_results = reader.eval_on_file(path, \"new_dev.json\")\n",
        "\n",
        "## Reader Top-N-Accuracy is the proportion of predicted answers that match with their corresponding correct answer\n",
        "print(\"Reader Top-N-Accuracy:\", reader_eval_results[\"top_n_accuracy\"])\n",
        "## Reader Exact Match is the proportion of questions where the predicted answer is exactly the same as the correct answer\n",
        "print(\"Reader Exact Match:\", reader_eval_results[\"EM\"])\n",
        "## Reader F1-Score is the average overlap between the predicted answers and the correct answers\n",
        "print(\"Reader F1-Score:\", reader_eval_results[\"f1\"])"
      ],
      "metadata": {
        "colab": {
          "base_uri": "https://localhost:8080/"
        },
        "id": "eyCtD3mW6iPa",
        "outputId": "75632072-577b-43aa-986c-3e04a4ad260b"
      },
      "execution_count": null,
      "outputs": [
        {
          "output_type": "stream",
          "name": "stderr",
          "text": [
            "INFO - haystack.modeling.data_handler.data_silo -  \n",
            "Loading data into the data silo ... \n",
            "              ______\n",
            "               |o  |   !\n",
            "   __          |:`_|---'-.\n",
            "  |__|______.-/ _ \\-----.|       \n",
            " (o)(o)------'\\ _ /     ( )      \n",
            " \n",
            "INFO - haystack.modeling.data_handler.data_silo -  LOADING TRAIN DATA\n",
            "INFO - haystack.modeling.data_handler.data_silo -  ==================\n",
            "INFO - haystack.modeling.data_handler.data_silo -  No train set is being loaded\n",
            "INFO - haystack.modeling.data_handler.data_silo -  \n",
            "INFO - haystack.modeling.data_handler.data_silo -  LOADING DEV DATA\n",
            "INFO - haystack.modeling.data_handler.data_silo -  =================\n",
            "INFO - haystack.modeling.data_handler.data_silo -  No dev set is being loaded\n",
            "INFO - haystack.modeling.data_handler.data_silo -  \n",
            "INFO - haystack.modeling.data_handler.data_silo -  LOADING TEST DATA\n",
            "INFO - haystack.modeling.data_handler.data_silo -  =================\n",
            "INFO - haystack.modeling.data_handler.data_silo -  Loading test set from: /content/drive/MyDrive/Data/Squad2.0/new_dev.json\n",
            "INFO - haystack.modeling.data_handler.data_silo -  Got ya 2 parallel workers to convert 515 dictionaries to pytorch datasets (chunksize = 52)...\n",
            "INFO - haystack.modeling.data_handler.data_silo -   0    0 \n",
            "INFO - haystack.modeling.data_handler.data_silo -  /w\\  /w\\\n",
            "INFO - haystack.modeling.data_handler.data_silo -  / \\  / \\\n",
            "Preprocessing Dataset /content/drive/MyDrive/Data/Squad2.0/new_dev.json: 100%|██████████| 515/515 [00:02<00:00, 208.31 Dicts/s]\n",
            "INFO - haystack.modeling.data_handler.data_silo -  \n",
            "INFO - haystack.modeling.data_handler.data_silo -  DATASETS SUMMARY\n",
            "INFO - haystack.modeling.data_handler.data_silo -  ================\n",
            "INFO - haystack.modeling.data_handler.data_silo -  Examples in train: 0\n",
            "INFO - haystack.modeling.data_handler.data_silo -  Examples in dev  : 0\n",
            "INFO - haystack.modeling.data_handler.data_silo -  Examples in test : 2848\n",
            "INFO - haystack.modeling.data_handler.data_silo -  Total examples   : 2848\n",
            "INFO - haystack.modeling.data_handler.data_silo -  \n",
            "Evaluating: 100%|██████████| 57/57 [01:23<00:00,  1.46s/it]\n"
          ]
        },
        {
          "output_type": "stream",
          "name": "stdout",
          "text": [
            "Reader Top-N-Accuracy: 0.8682713347921225\n",
            "Reader Exact Match: 0.5413566739606127\n",
            "Reader F1-Score: 0.7332237854778118\n"
          ]
        },
        {
          "output_type": "stream",
          "name": "stderr",
          "text": [
            "/usr/local/lib/python3.7/dist-packages/numpy/core/fromnumeric.py:3373: RuntimeWarning: Mean of empty slice.\n",
            "  out=out, **kwargs)\n",
            "/usr/local/lib/python3.7/dist-packages/numpy/core/_methods.py:170: RuntimeWarning: invalid value encountered in double_scalars\n",
            "  ret = ret.dtype.type(ret / rcount)\n"
          ]
        }
      ]
    },
    {
      "cell_type": "code",
      "source": [
        "# Evaluate Reader on its own\n",
        "#reader_eval_results = reader.eval(document_store=document_store, device=device, label_index=label_index, doc_index=doc_index)\n",
        "# Evaluation of Reader can also be done directly on a SQuAD-formatted file without passing the data to Elasticsearch\n",
        "reader_eval_results = reader.eval_on_file(path, \"new_test.json\")\n",
        "\n",
        "## Reader Top-N-Accuracy is the proportion of predicted answers that match with their corresponding correct answer\n",
        "print(\"Reader Top-N-Accuracy:\", reader_eval_results[\"top_n_accuracy\"])\n",
        "## Reader Exact Match is the proportion of questions where the predicted answer is exactly the same as the correct answer\n",
        "print(\"Reader Exact Match:\", reader_eval_results[\"EM\"])\n",
        "## Reader F1-Score is the average overlap between the predicted answers and the correct answers\n",
        "print(\"Reader F1-Score:\", reader_eval_results[\"f1\"])"
      ],
      "metadata": {
        "colab": {
          "base_uri": "https://localhost:8080/"
        },
        "id": "VYjmKpSk6ikw",
        "outputId": "7f308875-97de-4c36-bbb9-e2797c54e636"
      },
      "execution_count": null,
      "outputs": [
        {
          "output_type": "stream",
          "name": "stderr",
          "text": [
            "INFO - haystack.modeling.data_handler.data_silo -  \n",
            "Loading data into the data silo ... \n",
            "              ______\n",
            "               |o  |   !\n",
            "   __          |:`_|---'-.\n",
            "  |__|______.-/ _ \\-----.|       \n",
            " (o)(o)------'\\ _ /     ( )      \n",
            " \n",
            "INFO - haystack.modeling.data_handler.data_silo -  LOADING TRAIN DATA\n",
            "INFO - haystack.modeling.data_handler.data_silo -  ==================\n",
            "INFO - haystack.modeling.data_handler.data_silo -  No train set is being loaded\n",
            "INFO - haystack.modeling.data_handler.data_silo -  \n",
            "INFO - haystack.modeling.data_handler.data_silo -  LOADING DEV DATA\n",
            "INFO - haystack.modeling.data_handler.data_silo -  =================\n",
            "INFO - haystack.modeling.data_handler.data_silo -  No dev set is being loaded\n",
            "INFO - haystack.modeling.data_handler.data_silo -  \n",
            "INFO - haystack.modeling.data_handler.data_silo -  LOADING TEST DATA\n",
            "INFO - haystack.modeling.data_handler.data_silo -  =================\n",
            "INFO - haystack.modeling.data_handler.data_silo -  Loading test set from: /content/drive/MyDrive/Data/Squad2.0/new_test.json\n",
            "INFO - haystack.modeling.data_handler.data_silo -  Got ya 2 parallel workers to convert 493 dictionaries to pytorch datasets (chunksize = 50)...\n",
            "INFO - haystack.modeling.data_handler.data_silo -   0    0 \n",
            "INFO - haystack.modeling.data_handler.data_silo -  /w\\  /|\\\n",
            "INFO - haystack.modeling.data_handler.data_silo -  /'\\  /'\\\n",
            "Preprocessing Dataset /content/drive/MyDrive/Data/Squad2.0/new_test.json: 100%|██████████| 493/493 [00:02<00:00, 204.03 Dicts/s]\n",
            "INFO - haystack.modeling.data_handler.data_silo -  \n",
            "INFO - haystack.modeling.data_handler.data_silo -  DATASETS SUMMARY\n",
            "INFO - haystack.modeling.data_handler.data_silo -  ================\n",
            "INFO - haystack.modeling.data_handler.data_silo -  Examples in train: 0\n",
            "INFO - haystack.modeling.data_handler.data_silo -  Examples in dev  : 0\n",
            "INFO - haystack.modeling.data_handler.data_silo -  Examples in test : 2871\n",
            "INFO - haystack.modeling.data_handler.data_silo -  Total examples   : 2871\n",
            "INFO - haystack.modeling.data_handler.data_silo -  \n",
            "Evaluating: 100%|██████████| 58/58 [01:24<00:00,  1.45s/it]\n"
          ]
        },
        {
          "output_type": "stream",
          "name": "stdout",
          "text": [
            "Reader Top-N-Accuracy: 0.8832579185520362\n",
            "Reader Exact Match: 0.5276018099547511\n",
            "Reader F1-Score: 0.7337224311440262\n"
          ]
        },
        {
          "output_type": "stream",
          "name": "stderr",
          "text": [
            "/usr/local/lib/python3.7/dist-packages/numpy/core/fromnumeric.py:3373: RuntimeWarning: Mean of empty slice.\n",
            "  out=out, **kwargs)\n",
            "/usr/local/lib/python3.7/dist-packages/numpy/core/_methods.py:170: RuntimeWarning: invalid value encountered in double_scalars\n",
            "  ret = ret.dtype.type(ret / rcount)\n"
          ]
        }
      ]
    }
  ]
}